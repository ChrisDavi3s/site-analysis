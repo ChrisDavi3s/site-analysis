{
 "cells": [
  {
   "cell_type": "markdown",
   "metadata": {},
   "source": [
    "# 2D lattice examples\n",
    "\n",
    "To illustrate the concepts and techniques used in `site_analysis` consider a periodic 4&times;4 square lattice, \n",
    "which defines a set of 16 sites. We then introduce a single mobile atom. For each configuration we are interested in assigning the mobile ion to one of the 16 sites."
   ]
  },
  {
   "cell_type": "raw",
   "metadata": {
    "raw_mimetype": "text/html"
   },
   "source": [
    "<style>\n",
    ".marginauto {\n",
    "    margin: 10px auto 20px;\n",
    "    display: block;\n",
    "}\n",
    "</style>\n",
    "\n",
    "<img src=\"../_static/figures/4x4_lattice.png\" class=\"marginauto\" style=\"height: 200px;\"/>"
   ]
  },
  {
   "cell_type": "markdown",
   "metadata": {},
   "source": [
    "TODO:\n",
    "    - foo"
   ]
  },
  {
   "cell_type": "raw",
   "metadata": {
    "raw_mimetype": "text/html"
   },
   "source": [
    "<img src=\"../_static/figures/spherical_sites.png\" class=\"marginauto\" style=\"height: 200px;\"/>"
   ]
  },
  {
   "cell_type": "code",
   "execution_count": null,
   "metadata": {},
   "outputs": [],
   "source": []
  }
 ],
 "metadata": {
  "celltoolbar": "Raw Cell Format",
  "kernelspec": {
   "display_name": "Python 3",
   "language": "python",
   "name": "python3"
  },
  "language_info": {
   "codemirror_mode": {
    "name": "ipython",
    "version": 3
   },
   "file_extension": ".py",
   "mimetype": "text/x-python",
   "name": "python",
   "nbconvert_exporter": "python",
   "pygments_lexer": "ipython3",
   "version": "3.7.0"
  }
 },
 "nbformat": 4,
 "nbformat_minor": 2
}
