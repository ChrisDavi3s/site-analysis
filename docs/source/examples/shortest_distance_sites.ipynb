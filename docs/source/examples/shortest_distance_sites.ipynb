{
 "cells": [
  {
   "cell_type": "code",
   "execution_count": 1,
   "metadata": {},
   "outputs": [],
   "source": [
    "import numpy as np"
   ]
  },
  {
   "cell_type": "markdown",
   "metadata": {},
   "source": [
    "# VoronoiSite example trajectory analysis\n",
    "\n",
    "For this example, we want to analyse a simulation trajectory using voronoi sites. "
   ]
  },
  {
   "cell_type": "markdown",
   "metadata": {},
   "source": [
    "We can define our sites by creating a series of `pymatgen` `Structure`s, using the `Structure.from_spacegroup()` method. Each structure contains only Na sites, using the coordinates from Ramos _et al. Chem. Mater._ 2018."
   ]
  },
  {
   "cell_type": "code",
   "execution_count": 6,
   "metadata": {},
   "outputs": [],
   "source": [
    "from pymatgen.symmetry.groups import SpaceGroup\n",
    "from pymatgen.io.vasp import Poscar\n",
    "sg = SpaceGroup('I41/acd:2')\n",
    "all_na_structure = Poscar.from_file('./na_sn_all_na_new.POSCAR.vasp').structure"
   ]
  },
  {
   "cell_type": "code",
   "execution_count": 7,
   "metadata": {},
   "outputs": [],
   "source": [
    "from pymatgen import Structure, Lattice\n",
    "lattice = all_na_structure.lattice\n",
    "na1 = Structure.from_spacegroup(sg='I41/acd:2', lattice=lattice, species=['Na'], coords=[[0.25, 0.0, 0.125]])\n",
    "na2 = Structure.from_spacegroup(sg='I41/acd:2', lattice=lattice, species=['Na'], coords=[[0.00, 0.0, 0.125]])\n",
    "na3 = Structure.from_spacegroup(sg='I41/acd:2', lattice=lattice, species=['Na'], coords=[[0.0, 0.25, 0.0]])\n",
    "na4 = Structure.from_spacegroup(sg='I41/acd:2', lattice=lattice, species=['Na'], coords=[[0.0, 0.0, 0.0]])\n",
    "na5 = Structure.from_spacegroup(sg='I41/acd:2', lattice=lattice, species=['Na'], coords=[[0.75, 0.25, 0.0]])\n",
    "na6 = Structure.from_spacegroup(sg='I41/acd:2', lattice=lattice, species=['Na'], coords=[[0.5, 0.75, 0.625]])\n",
    "i2  = Structure.from_spacegroup(sg='I41/acd:2', lattice=lattice, species=['Na'], coords=[[0.666, 0.1376, 0.05]])\n",
    "na_structures = {'Na1': na1,\n",
    "                 'Na2': na2,\n",
    "                 'Na3': na3,\n",
    "                 'Na4': na4,\n",
    "                 'Na5': na5,\n",
    "                 'Na6': na6, \n",
    "                 'i2': i2}"
   ]
  },
  {
   "cell_type": "code",
   "execution_count": 8,
   "metadata": {},
   "outputs": [],
   "source": [
    "from site_analysis.voronoi_site import VoronoiSite\n",
    "na1_sites = [VoronoiSite(s.frac_coords, label='Na1') for s in na1 ]\n",
    "na2_sites = [VoronoiSite(s.frac_coords, label='Na2') for s in na2 ]\n",
    "na3_sites = [VoronoiSite(s.frac_coords, label='Na3') for s in na3 ]\n",
    "na4_sites = [VoronoiSite(s.frac_coords, label='Na4') for s in na4 ]\n",
    "na5_sites = [VoronoiSite(s.frac_coords, label='Na5') for s in na5 ]\n",
    "na6_sites = [VoronoiSite(s.frac_coords, label='Na6') for s in na6 ]\n",
    "i2_sites  = [VoronoiSite(s.frac_coords, label='i2') for s in i2 ]\n",
    "sites = na1_sites + na2_sites + na3_sites + na4_sites + na5_sites + na6_sites + i2_sites"
   ]
  },
  {
   "cell_type": "code",
   "execution_count": 9,
   "metadata": {},
   "outputs": [
    {
     "name": "stdout",
     "output_type": "stream",
     "text": [
      "Na88 Sn16 P8 S96\n"
     ]
    },
    {
     "data": {
      "text/plain": [
       "[site_analysis.Atom(index=0, in_site=None, frac_coords=None),\n",
       " site_analysis.Atom(index=1, in_site=None, frac_coords=None),\n",
       " site_analysis.Atom(index=2, in_site=None, frac_coords=None)]"
      ]
     },
     "execution_count": 9,
     "metadata": {},
     "output_type": "execute_result"
    }
   ],
   "source": [
    "from pymatgen.io.vasp import Poscar\n",
    "structure = Poscar.from_file('POSCAR').structure\n",
    "print(structure.composition)\n",
    "# create Atom objects\n",
    "from site_analysis.atom import atoms_from_species_string\n",
    "atoms = atoms_from_species_string(structure, 'Na')\n",
    "atoms[0:3]"
   ]
  },
  {
   "cell_type": "markdown",
   "metadata": {},
   "source": [
    "We now create a `Trajectory` object"
   ]
  },
  {
   "cell_type": "code",
   "execution_count": 10,
   "metadata": {},
   "outputs": [
    {
     "data": {
      "text/plain": [
       "<site_analysis.trajectory.Trajectory at 0x12a322dd8>"
      ]
     },
     "execution_count": 10,
     "metadata": {},
     "output_type": "execute_result"
    }
   ],
   "source": [
    "from site_analysis.trajectory import Trajectory\n",
    "trajectory = Trajectory(sites=sites, atoms=atoms)\n",
    "trajectory"
   ]
  },
  {
   "cell_type": "markdown",
   "metadata": {},
   "source": [
    "To analyse the site occupation for a particular `pymatgen` `Structure`:"
   ]
  },
  {
   "cell_type": "code",
   "execution_count": 11,
   "metadata": {},
   "outputs": [],
   "source": [
    "trajectory.analyse_structure(structure)"
   ]
  },
  {
   "cell_type": "code",
   "execution_count": 12,
   "metadata": {},
   "outputs": [
    {
     "data": {
      "text/plain": [
       "array([16, 32, 36, 20,  3, 38, 34, 23,  5, 33, 35, 19, 37, 21, 24, 12, 28,\n",
       "       46, 30, 42, 26, 47, 31, 25, 41, 43, 27, 29, 50, 54, 79, 53, 49, 51,\n",
       "       64, 58, 62, 61, 63, 59, 91, 83, 89, 81, 90, 82, 52, 80, 95, 87, 57,\n",
       "       93, 86, 94, 92, 84, 48, 76, 78, 68, 70, 60, 77, 66, 55, 75, 65, 72,\n",
       "       73, 67, 74, 69, 13, 18,  4, 17, 14,  6,  7, 15,  9,  1,  8,  0,  2,\n",
       "       44, 45, 11])"
      ]
     },
     "execution_count": 12,
     "metadata": {},
     "output_type": "execute_result"
    }
   ],
   "source": [
    "np.array(trajectory.atom_sites)"
   ]
  },
  {
   "cell_type": "code",
   "execution_count": 13,
   "metadata": {},
   "outputs": [],
   "source": [
    "from pymatgen.io.vasp import Xdatcar\n",
    "trajectory.reset()\n",
    "xdatcar = Xdatcar('XDATCAR')\n",
    "for timestep, s in enumerate(xdatcar.structures):\n",
    "    trajectory.append_timestep(s, t=timestep)"
   ]
  },
  {
   "cell_type": "markdown",
   "metadata": {},
   "source": [
    "Rough example for collecting only occupied sites, and counting their site types:"
   ]
  },
  {
   "cell_type": "code",
   "execution_count": 14,
   "metadata": {},
   "outputs": [
    {
     "name": "stdout",
     "output_type": "stream",
     "text": [
      "Na1 15.35\n",
      "Na2 29.75\n",
      "Na3 12.4\n",
      "Na4 15.15\n",
      "Na5 15.15\n",
      "Na6 0.0\n",
      "i2 0.2\n"
     ]
    }
   ],
   "source": [
    "from collections import Counter\n",
    "c = Counter()\n",
    "for site in trajectory.sites:\n",
    "    c[site.label] += len([ 1 for ts in site.trajectory if len(ts)>0 ])\n",
    "for k, v in c.items():\n",
    "    print( k, v/len(trajectory))"
   ]
  },
  {
   "cell_type": "markdown",
   "metadata": {},
   "source": [
    "vs. all sites:"
   ]
  },
  {
   "cell_type": "code",
   "execution_count": 15,
   "metadata": {},
   "outputs": [
    {
     "data": {
      "text/plain": [
       "Counter({'Na1': 16,\n",
       "         'Na2': 32,\n",
       "         'Na3': 16,\n",
       "         'Na4': 16,\n",
       "         'Na5': 16,\n",
       "         'Na6': 8,\n",
       "         'i2': 32})"
      ]
     },
     "execution_count": 15,
     "metadata": {},
     "output_type": "execute_result"
    }
   ],
   "source": [
    "c_sites = Counter(trajectory.site_labels())\n",
    "c_sites"
   ]
  },
  {
   "cell_type": "code",
   "execution_count": 17,
   "metadata": {},
   "outputs": [
    {
     "data": {
      "application/vnd.jupyter.widget-view+json": {
       "model_id": "f0c0c42395c74e7b88d64adfe46314a3",
       "version_major": 2,
       "version_minor": 0
      },
      "text/plain": [
       "HBox(children=(IntProgress(value=0, max=300), HTML(value='')))"
      ]
     },
     "metadata": {},
     "output_type": "display_data"
    },
    {
     "name": "stdout",
     "output_type": "stream",
     "text": [
      "\n"
     ]
    }
   ],
   "source": [
    "trajectory.reset()\n",
    "\n",
    "xdatcar = Xdatcar('XDATCAR_Sn')\n",
    "\n",
    "trajectory.trajectory_from_structures( xdatcar.structures, progress='notebook')"
   ]
  },
  {
   "cell_type": "code",
   "execution_count": 19,
   "metadata": {},
   "outputs": [
    {
     "data": {
      "text/plain": [
       "{'Na1': 0.93375,\n",
       " 'Na2': 0.895625,\n",
       " 'Na3': 0.915,\n",
       " 'Na4': 0.9427083333333334,\n",
       " 'Na5': 0.9120833333333334,\n",
       " 'Na6': 0.0,\n",
       " 'i2': 0.0026041666666666665}"
      ]
     },
     "execution_count": 19,
     "metadata": {},
     "output_type": "execute_result"
    }
   ],
   "source": [
    "n_timesteps = len(trajectory.timesteps)\n",
    "c_sites = Counter(trajectory.site_labels())\n",
    "c = Counter()\n",
    "p_occ = {}\n",
    "for site in trajectory.sites:\n",
    "    c[site.label] += len([ 1 for ts in site.trajectory if len(ts)>0 ])\n",
    "for k, v in c.items():\n",
    "    p_occ[k] = v / c_sites[k] / n_timesteps\n",
    "p_occ"
   ]
  },
  {
   "cell_type": "code",
   "execution_count": 20,
   "metadata": {},
   "outputs": [
    {
     "name": "stdout",
     "output_type": "stream",
     "text": [
      "Na1 14.94\n",
      "Na2 28.66\n",
      "Na3 14.64\n",
      "Na4 15.083333333333334\n",
      "Na5 14.593333333333334\n",
      "Na6 0.0\n",
      "i2 0.08333333333333333\n",
      "88.0\n"
     ]
    }
   ],
   "source": [
    "# check total average occupation = 88 atoms\n",
    "for k,v in c.items():\n",
    "    print( k, p_occ[k]*c_sites[k])\n",
    "print( sum( [ p_occ[k] * c_sites[k] for k, v in c.items()]))"
   ]
  },
  {
   "cell_type": "code",
   "execution_count": 34,
   "metadata": {},
   "outputs": [],
   "source": [
    "def residence_times(atom_trajectory):\n",
    "    \"\"\"Calculates the numbers of sequential timesteps when an atom\n",
    "    occupies the same site.\n",
    "    \n",
    "    Args:\n",
    "        atom_trajectory (list): List of site indices.\n",
    "        \n",
    "    Returns:\n",
    "        (dict)\n",
    "        \n",
    "    Example:\n",
    "        >>> atom_trajectory = [3, 3, 3, 7, 7, 5, 3]\n",
    "        >>> residence_times(atom_trajectory)\n",
    "        {3: [3, 1], 7: [2], 5: [1]}\n",
    "        \n",
    "    \"\"\"\n",
    "    r_times = {}\n",
    "    current_site = None\n",
    "    for site in atom_trajectory:\n",
    "        if site != current_site:\n",
    "            if site in r_times:\n",
    "                r_times[site].append(1)\n",
    "            else:\n",
    "                r_times[site] = [1]\n",
    "        else:\n",
    "            r_times[site][-1] += 1\n",
    "        current_site = site\n",
    "    return r_times   "
   ]
  },
  {
   "cell_type": "code",
   "execution_count": 35,
   "metadata": {},
   "outputs": [
    {
     "data": {
      "text/plain": [
       "{3: [3, 1], 7: [2], 5: [1]}"
      ]
     },
     "execution_count": 35,
     "metadata": {},
     "output_type": "execute_result"
    }
   ],
   "source": [
    "residence_times([3, 3, 3, 7, 7, 5, 3])"
   ]
  },
  {
   "cell_type": "code",
   "execution_count": 36,
   "metadata": {},
   "outputs": [
    {
     "data": {
      "text/plain": [
       "{16: [300]}"
      ]
     },
     "execution_count": 36,
     "metadata": {},
     "output_type": "execute_result"
    }
   ],
   "source": [
    "residence_times(trajectory.atoms[0].trajectory)"
   ]
  },
  {
   "cell_type": "code",
   "execution_count": 44,
   "metadata": {},
   "outputs": [],
   "source": [
    "# Look at the site trajectory of atom 0:\n",
    "r_times = []\n",
    "for a in trajectory.atoms:\n",
    "    rt = residence_times(a.trajectory)\n",
    "    for k, v in rt.items():\n",
    "        r_times.extend(v)"
   ]
  },
  {
   "cell_type": "code",
   "execution_count": 46,
   "metadata": {},
   "outputs": [],
   "source": [
    "import matplotlib.pyplot as plt\n",
    "%matplotlib inline"
   ]
  },
  {
   "cell_type": "code",
   "execution_count": 49,
   "metadata": {},
   "outputs": [
    {
     "data": {
      "image/png": "[encoded data removed]",
      "text/plain": [
       "<Figure size 432x288 with 1 Axes>"
      ]
     },
     "metadata": {
      "image/png": {
       "height": 248,
       "width": 369
      },
      "needs_background": "light"
     },
     "output_type": "display_data"
    }
   ],
   "source": [
    "plt.hist(r_times, bins=300)\n",
    "plt.show()"
   ]
  },
  {
   "cell_type": "code",
   "execution_count": 38,
   "metadata": {},
   "outputs": [],
   "source": [
    "def smooth_trajectory(t):\n",
    "    for i in range(len(t)-2):\n",
    "        if t[i] == t[i+2]:\n",
    "            t[i+1] = t[i]\n",
    "    return t"
   ]
  },
  {
   "cell_type": "code",
   "execution_count": 41,
   "metadata": {},
   "outputs": [
    {
     "data": {
      "text/plain": [
       "[0, 0, 0, 0, 0, 1, 1]"
      ]
     },
     "execution_count": 41,
     "metadata": {},
     "output_type": "execute_result"
    }
   ],
   "source": [
    "t = [0,0,0,1,0,1,1]\n",
    "smooth_trajectory(t)"
   ]
  },
  {
   "cell_type": "code",
   "execution_count": 42,
   "metadata": {},
   "outputs": [
    {
     "name": "stdout",
     "output_type": "stream",
     "text": [
      "{16: [300]}\n",
      "{32: [300]}\n",
      "{36: [296], 83: [4]}\n",
      "{20: [300]}\n",
      "{3: [110, 121], 22: [68], 112: [1]}\n",
      "{38: [300]}\n",
      "{34: [300]}\n",
      "{23: [300]}\n",
      "{5: [300]}\n",
      "{33: [300]}\n",
      "{35: [300]}\n",
      "{19: [300]}\n",
      "{37: [244], 7: [56]}\n",
      "{21: [300]}\n",
      "{24: [131, 103], 3: [3], 95: [63]}\n",
      "{12: [184, 94], 40: [22]}\n",
      "{28: [100, 15, 17, 80], 95: [18, 34, 20, 2, 7], 131: [3, 1, 1, 2]}\n",
      "{46: [300]}\n",
      "{30: [300]}\n",
      "{42: [300]}\n",
      "{26: [300]}\n",
      "{47: [300]}\n",
      "{31: [300]}\n",
      "{25: [226], 8: [74]}\n",
      "{41: [243], 84: [57]}\n",
      "{43: [300]}\n",
      "{10: [202, 95], 27: [3]}\n",
      "{29: [300]}\n",
      "{50: [300]}\n",
      "{54: [300]}\n",
      "{79: [300]}\n",
      "{53: [283], 89: [17]}\n",
      "{49: [300]}\n",
      "{51: [300]}\n",
      "{64: [31, 93], 56: [176]}\n",
      "{58: [300]}\n",
      "{62: [300]}\n",
      "{61: [300]}\n",
      "{63: [300]}\n",
      "{59: [300]}\n",
      "{91: [300]}\n",
      "{83: [288], 53: [12]}\n",
      "{89: [196], 121: [1], 22: [103]}\n",
      "{81: [300]}\n",
      "{90: [300]}\n",
      "{82: [300]}\n",
      "{52: [68, 53, 85], 88: [53, 40], 120: [1]}\n",
      "{80: [300]}\n",
      "{95: [23, 58], 57: [2, 217]}\n",
      "{87: [59, 239], 117: [1], 40: [1]}\n",
      "{57: [12], 85: [288]}\n",
      "{93: [300]}\n",
      "{86: [300]}\n",
      "{94: [99, 137], 27: [63], 132: [1]}\n",
      "{92: [300]}\n",
      "{84: [212], 56: [88]}\n",
      "{48: [73, 103], 64: [124]}\n",
      "{76: [300]}\n",
      "{78: [300]}\n",
      "{68: [72, 8, 215], 52: [2, 3]}\n",
      "{70: [300]}\n",
      "{60: [300]}\n",
      "{77: [89, 20, 154], 48: [35, 2]}\n",
      "{66: [300]}\n",
      "{55: [27, 14, 32, 3, 8, 18, 2, 3, 39], 71: [51, 4, 10, 3, 13, 43, 18, 12]}\n",
      "{75: [300]}\n",
      "{65: [300]}\n",
      "{72: [36, 16, 17, 225], 57: [2, 2, 2]}\n",
      "{73: [300]}\n",
      "{67: [300]}\n",
      "{74: [46, 83, 143], 55: [24, 4]}\n",
      "{69: [300]}\n",
      "{13: [300]}\n",
      "{18: [231, 54], 127: [1], 89: [14]}\n",
      "{4: [3, 294], 22: [3]}\n",
      "{17: [33, 165, 43], 88: [21, 37], 126: [1]}\n",
      "{14: [300]}\n",
      "{6: [300]}\n",
      "{7: [211], 27: [89]}\n",
      "{15: [300]}\n",
      "{9: [300]}\n",
      "{1: [300]}\n",
      "{8: [49, 7, 7, 9], 39: [63, 44, 41, 80]}\n",
      "{0: [300]}\n",
      "{2: [300]}\n",
      "{44: [300]}\n",
      "{45: [300]}\n",
      "{11: [2, 264], 40: [34]}\n"
     ]
    }
   ],
   "source": [
    "for a in trajectory.atoms:\n",
    "    print(residence_times(smooth_trajectory(a.trajectory)))"
   ]
  },
  {
   "cell_type": "code",
   "execution_count": null,
   "metadata": {},
   "outputs": [],
   "source": []
  }
 ],
 "metadata": {
  "kernelspec": {
   "display_name": "Python 3",
   "language": "python",
   "name": "python3"
  },
  "language_info": {
   "codemirror_mode": {
    "name": "ipython",
    "version": 3
   },
   "file_extension": ".py",
   "mimetype": "text/x-python",
   "name": "python",
   "nbconvert_exporter": "python",
   "pygments_lexer": "ipython3",
   "version": "3.7.0"
  }
 },
 "nbformat": 4,
 "nbformat_minor": 2
}
