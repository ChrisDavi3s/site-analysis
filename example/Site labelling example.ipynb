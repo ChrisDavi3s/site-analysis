{
 "cells": [
  {
   "cell_type": "markdown",
   "metadata": {},
   "source": [
    "# labelled sites example"
   ]
  },
  {
   "cell_type": "code",
   "execution_count": 1,
   "metadata": {},
   "outputs": [],
   "source": [
    "from pymatgen.io.vasp import Poscar, Xdatcar\n",
    "from pymatgen.symmetry.groups import SpaceGroup\n",
    "from pymatgen.core import Structure, Lattice\n",
    "import numpy as np\n",
    "\n",
    "from site_analysis.atom import Atom\n",
    "from site_analysis.site import Site\n",
    "from site_analysis.tools import get_vertex_indices\n",
    "from site_analysis.polyhedral_site import PolyhedralSite\n",
    "from site_analysis.trajectory import Trajectory\n",
    "\n",
    "from collections import Counter\n",
    "import tqdm"
   ]
  },
  {
   "cell_type": "markdown",
   "metadata": {},
   "source": [
    "Load a `POSCAR` file where every octahedral site is occupied by a Na atom."
   ]
  },
  {
   "cell_type": "code",
   "execution_count": 2,
   "metadata": {},
   "outputs": [
    {
     "data": {
      "text/plain": [
       "Comp: Na136 Sn16 P8 S96"
      ]
     },
     "execution_count": 2,
     "metadata": {},
     "output_type": "execute_result"
    }
   ],
   "source": [
    "all_na_structure = Poscar.from_file('na_sn_all_na_ext.POSCAR.vasp').structure\n",
    "vertex_species = 'S'\n",
    "centre_species = 'Na'\n",
    "all_na_structure.composition"
   ]
  },
  {
   "cell_type": "markdown",
   "metadata": {},
   "source": [
    "Create a series of pymatgen Structures using the `Structure.from_spacegroup()` method, that each only contain the NaX sites, using the coordinates from Ramos _et al._ _Chem. Mater._ 2018."
   ]
  },
  {
   "cell_type": "code",
   "execution_count": 3,
   "metadata": {},
   "outputs": [],
   "source": [
    "sg = SpaceGroup('I41/acd:2')"
   ]
  },
  {
   "cell_type": "code",
   "execution_count": 4,
   "metadata": {},
   "outputs": [],
   "source": [
    "lattice = all_na_structure.lattice\n",
    "na1 = Structure.from_spacegroup(sg='I41/acd:2', lattice=lattice, species=['Na'], coords=[[0.25, 0.0, 0.125]])\n",
    "na2 = Structure.from_spacegroup(sg='I41/acd:2', lattice=lattice, species=['Na'], coords=[[0.00, 0.0, 0.125]])\n",
    "na3 = Structure.from_spacegroup(sg='I41/acd:2', lattice=lattice, species=['Na'], coords=[[0.0, 0.25, 0.0]])\n",
    "na4 = Structure.from_spacegroup(sg='I41/acd:2', lattice=lattice, species=['Na'], coords=[[0.0, 0.0, 0.0]])\n",
    "na5 = Structure.from_spacegroup(sg='I41/acd:2', lattice=lattice, species=['Na'], coords=[[0.75, 0.25, 0.0]])\n",
    "na6 = Structure.from_spacegroup(sg='I41/acd:2', lattice=lattice, species=['Na'], coords=[[0.5, 0.75, 0.625]])\n",
    "i2  = Structure.from_spacegroup(sg='I41/acd:2', lattice=lattice, species=['Na'], coords=[[0.666, 0.1376, 0.05]])\n",
    "na_structures = {'Na1': na1,\n",
    "                 'Na2': na2,\n",
    "                 'Na3': na3,\n",
    "                 'Na4': na4,\n",
    "                 'Na5': na5,\n",
    "                 'Na6': na6, \n",
    "                 'i2': i2}"
   ]
  },
  {
   "cell_type": "code",
   "execution_count": 5,
   "metadata": {},
   "outputs": [],
   "source": [
    "s = Structure.from_spacegroup(sg='I41/acd:2', lattice=lattice, \n",
    "                          species=['Sn','S','S','S', 'P','Na','Na','Na','Na','Na','K','Li','Mg'], \n",
    "                          coords=[[0.25, 0.0, 0.25],\n",
    "                                  [0.326, 0.8997, 0.1987],\n",
    "                                  [0.1258, 0.8972, 0.2999],\n",
    "                                  [0.4097, 0.8339, 0.332],\n",
    "                                  [0, 0.75, 0.125],\n",
    "                                  [0.25, 0.0, 0.125],\n",
    "                                  [0.0, 0.0, 0.125],\n",
    "                                  [0.0, 0.25, 0.0],\n",
    "                                  [0.0, 0.0, 0.0],\n",
    "                                  [0.75, 0.25, 0.0],\n",
    "                                  [0.5, 0.75, 0.625],\n",
    "                                  [0.65, 0.375, 0.05],\n",
    "                                  [0.25000,  0.75000,  0.00000]]) \n",
    "\n",
    "s.to(filename='all_atoms.cif')"
   ]
  },
  {
   "cell_type": "markdown",
   "metadata": {},
   "source": [
    "Import the `matching_site_indices()` function from `polyhedral_analysis` (I should probably just add this to the `site-analysis` package). This function takes two pymatgen Structures as arguments, and finds the set of sites from the first that are closest to the sites in the second."
   ]
  },
  {
   "cell_type": "code",
   "execution_count": 6,
   "metadata": {},
   "outputs": [],
   "source": [
    "from polyhedral_analysis.polyhedra_recipe import matching_site_indices"
   ]
  },
  {
   "cell_type": "code",
   "execution_count": 7,
   "metadata": {},
   "outputs": [
    {
     "name": "stdout",
     "output_type": "stream",
     "text": [
      "\n",
      "    Returns a subset of site indices from structure (as a list) where each site is the closest to one \n",
      "    site in the reference structure.\n",
      "    \n",
      "    Args:\n",
      "        structure (Structure): The structure being analysed.\n",
      "        reference_structure (Structure): A Structure object containing a set of reference sites.\n",
      "        species (:obj:`list[str]`, optional): A list of species labels. If this is set, only matching\n",
      "            sites will be included in the returned set.\n",
      "        \n",
      "    Returns:\n",
      "        (list[int])\n",
      "\n",
      "    \n"
     ]
    }
   ],
   "source": [
    "print(matching_site_indices.__doc__)"
   ]
  },
  {
   "cell_type": "code",
   "execution_count": 8,
   "metadata": {},
   "outputs": [
    {
     "data": {
      "text/plain": [
       "[38, 37, 74, 73, 102, 103, 76, 75]"
      ]
     },
     "execution_count": 8,
     "metadata": {},
     "output_type": "execute_result"
    }
   ],
   "source": [
    "matching_site_indices(all_na_structure, na_structures['Na6'])"
   ]
  },
  {
   "cell_type": "markdown",
   "metadata": {},
   "source": [
    "Use this to find the Na sites closest to a Na1, Na2, Na3 etc site, and store the site index and \"Na1\" etc. label in a dictionary, using the index as keys. Then sort this dictionary and generate an ordered list of \"Na1\" etc. labels for every Na site."
   ]
  },
  {
   "cell_type": "code",
   "execution_count": 9,
   "metadata": {},
   "outputs": [
    {
     "name": "stdout",
     "output_type": "stream",
     "text": [
      "['Na3', 'Na3', 'Na3', 'Na4', 'Na3', 'Na4', 'Na3', 'Na3', 'Na3', 'Na2', 'Na3', 'Na5', 'Na2', 'Na2', 'Na2', 'Na1', 'Na1', 'Na2', 'Na2', 'Na5', 'Na4', 'Na4', 'Na5', 'Na2', 'Na2', 'Na4', 'Na5', 'Na4', 'Na5', 'Na2', 'Na4', 'Na4', 'Na3', 'Na3', 'Na3', 'Na3', 'Na2', 'Na6', 'Na6', 'Na3', 'Na3', 'Na3', 'Na3', 'Na1', 'Na1', 'Na1', 'Na1', 'Na2', 'Na5', 'Na5', 'Na2', 'Na1', 'Na1', 'Na2', 'Na2', 'Na5', 'Na2', 'Na1', 'Na2', 'Na1', 'Na2', 'Na5', 'Na5', 'Na1', 'Na2', 'Na2', 'Na2', 'Na5', 'Na2', 'Na5', 'Na4', 'Na4', 'Na4', 'Na6', 'Na6', 'Na6', 'Na6', 'Na2', 'Na2', 'Na1', 'Na1', 'Na5', 'Na2', 'Na2', 'Na4', 'Na2', 'Na2', 'Na4', 'Na1', 'Na4', 'Na5', 'Na2', 'Na2', 'Na5', 'Na2', 'Na1', 'Na1', 'Na5', 'Na4', 'Na2', 'Na2', 'Na4', 'Na6', 'Na6', 'i2', 'i2', 'i2', 'i2', 'i2', 'i2', 'i2', 'i2', 'i2', 'i2', 'i2', 'i2', 'i2', 'i2', 'i2', 'i2', 'i2', 'i2', 'i2', 'i2', 'i2', 'i2', 'i2', 'i2', 'i2', 'i2', 'i2', 'i2', 'i2', 'i2', 'i2', 'i2']\n"
     ]
    }
   ],
   "source": [
    "labels = {}\n",
    "for l, structure in na_structures.items():\n",
    "    indices = matching_site_indices(all_na_structure, structure)\n",
    "    for i in indices:\n",
    "        labels[i] = l\n",
    "sorted_labels = [ labels[i] for i in sorted(labels) ]\n",
    "print(sorted_labels)"
   ]
  },
  {
   "cell_type": "markdown",
   "metadata": {},
   "source": [
    "We then use the `get_vertex_indices()` function to find the N closest S to each Na (within a cutoff of 4.3 Å).  \n",
    "This returns a nested list, where each sublist contains the S indices for a single polyedron.  "
   ]
  },
  {
   "cell_type": "code",
   "execution_count": 10,
   "metadata": {},
   "outputs": [
    {
     "name": "stdout",
     "output_type": "stream",
     "text": [
      "[6, 6, 6, 6, 6, 6, 6, 6, 6, 6, 6, 6, 6, 6, 6, 6, 6, 6, 6, 6, 6, 6, 6, 6, 6, 6, 6, 6, 6, 6, 6, 6, 6, 6, 6, 6, 6, 8, 8, 6, 6, 6, 6, 6, 6, 6, 6, 6, 6, 6, 6, 6, 6, 6, 6, 6, 6, 6, 6, 6, 6, 6, 6, 6, 6, 6, 6, 6, 6, 6, 6, 6, 6, 8, 8, 8, 8, 6, 6, 6, 6, 6, 6, 6, 6, 6, 6, 6, 6, 6, 6, 6, 6, 6, 6, 6, 6, 6, 6, 6, 6, 6, 8, 8, 6, 6, 6, 6, 6, 6, 6, 6, 6, 6, 6, 6, 6, 6, 6, 6, 6, 6, 6, 6, 6, 6, 6, 6, 6, 6, 6, 6, 6, 6, 6, 6]\n"
     ]
    }
   ],
   "source": [
    "site_vertices = {'Na1': 6,\n",
    "                'Na2': 6,\n",
    "                'Na3': 6,\n",
    "                'Na4': 6,\n",
    "                'Na5': 6,\n",
    "                'Na6': 8,\n",
    "                'i2': 6}\n",
    "n_vertices = [site_vertices[l] for l in sorted_labels]\n",
    "print(n_vertices)"
   ]
  },
  {
   "cell_type": "code",
   "execution_count": 11,
   "metadata": {},
   "outputs": [
    {
     "name": "stdout",
     "output_type": "stream",
     "text": [
      "[[242, 218, 186, 244, 188, 220], [250, 252, 178, 212, 180, 210], [230, 174, 224, 206, 168, 200], [166, 192, 232, 208, 182, 249]]\n"
     ]
    }
   ],
   "source": [
    "# find atom indices (within species) for all polyhedra vertex atoms\n",
    "vertex_indices = get_vertex_indices(all_na_structure, centre_species=centre_species, \n",
    "                                    vertex_species=vertex_species, cutoff=4.3, n_vertices=n_vertices)\n",
    "print(vertex_indices[:4])"
   ]
  },
  {
   "cell_type": "markdown",
   "metadata": {},
   "source": [
    "We can now use these vertex ids to define our `Polyhedron` objects.   \n",
    "We now also pass in the appropriate label to each polyhedron."
   ]
  },
  {
   "cell_type": "code",
   "execution_count": 12,
   "metadata": {},
   "outputs": [
    {
     "data": {
      "text/plain": [
       "Comp: Na88 Sn16 P8 S96"
      ]
     },
     "execution_count": 12,
     "metadata": {},
     "output_type": "execute_result"
    }
   ],
   "source": [
    "structure = Poscar.from_file('POSCAR').structure\n",
    "structure.composition # Note we have 88 Na vs. 136 in the all Na structure above."
   ]
  },
  {
   "cell_type": "markdown",
   "metadata": {},
   "source": [
    "The structures we are working with have Na as the first species. We have calculated our site vertex indices using `all_na_structure` which contains 136 Na atoms. In our \"real\" system we only have 88 Na atoms, so the vertex indices from these structures are offset."
   ]
  },
  {
   "cell_type": "code",
   "execution_count": 13,
   "metadata": {},
   "outputs": [],
   "source": [
    "offset = 136-88\n",
    "offset_vertex_indices = [[i-offset for i in l] for l in vertex_indices]       "
   ]
  },
  {
   "cell_type": "code",
   "execution_count": 14,
   "metadata": {},
   "outputs": [],
   "source": [
    "# create Polyhedron objects\n",
    "sites = [PolyhedralSite(vertex_indices=vi, \n",
    "                        label=label) \n",
    "             for vi, label in zip(offset_vertex_indices, sorted_labels)]\n",
    "# create Atom objects\n",
    "atoms = [Atom(index=i, species_string=centre_species)\n",
    "         for i, site in enumerate(structure) \n",
    "         if site.species_string == 'Na']\n",
    "trajectory = Trajectory(sites, atoms)"
   ]
  },
  {
   "cell_type": "code",
   "execution_count": 15,
   "metadata": {},
   "outputs": [
    {
     "data": {
      "text/plain": [
       "Counter({6: 128, 8: 8})"
      ]
     },
     "execution_count": 15,
     "metadata": {},
     "output_type": "execute_result"
    }
   ],
   "source": [
    "trajectory.site_coordination_numbers()"
   ]
  },
  {
   "cell_type": "markdown",
   "metadata": {},
   "source": [
    "Polyhedra labels can be accessed directly, or as a list:"
   ]
  },
  {
   "cell_type": "code",
   "execution_count": 16,
   "metadata": {},
   "outputs": [
    {
     "data": {
      "text/plain": [
       "'Na3'"
      ]
     },
     "execution_count": 16,
     "metadata": {},
     "output_type": "execute_result"
    }
   ],
   "source": [
    "trajectory.sites[0].label"
   ]
  },
  {
   "cell_type": "code",
   "execution_count": 17,
   "metadata": {},
   "outputs": [
    {
     "name": "stdout",
     "output_type": "stream",
     "text": [
      "['Na3', 'Na3', 'Na3', 'Na4', 'Na3', 'Na4', 'Na3', 'Na3', 'Na3', 'Na2', 'Na3', 'Na5', 'Na2', 'Na2', 'Na2', 'Na1', 'Na1', 'Na2', 'Na2', 'Na5', 'Na4', 'Na4', 'Na5', 'Na2', 'Na2', 'Na4', 'Na5', 'Na4', 'Na5', 'Na2', 'Na4', 'Na4', 'Na3', 'Na3', 'Na3', 'Na3', 'Na2', 'Na6', 'Na6', 'Na3', 'Na3', 'Na3', 'Na3', 'Na1', 'Na1', 'Na1', 'Na1', 'Na2', 'Na5', 'Na5', 'Na2', 'Na1', 'Na1', 'Na2', 'Na2', 'Na5', 'Na2', 'Na1', 'Na2', 'Na1', 'Na2', 'Na5', 'Na5', 'Na1', 'Na2', 'Na2', 'Na2', 'Na5', 'Na2', 'Na5', 'Na4', 'Na4', 'Na4', 'Na6', 'Na6', 'Na6', 'Na6', 'Na2', 'Na2', 'Na1', 'Na1', 'Na5', 'Na2', 'Na2', 'Na4', 'Na2', 'Na2', 'Na4', 'Na1', 'Na4', 'Na5', 'Na2', 'Na2', 'Na5', 'Na2', 'Na1', 'Na1', 'Na5', 'Na4', 'Na2', 'Na2', 'Na4', 'Na6', 'Na6', 'i2', 'i2', 'i2', 'i2', 'i2', 'i2', 'i2', 'i2', 'i2', 'i2', 'i2', 'i2', 'i2', 'i2', 'i2', 'i2', 'i2', 'i2', 'i2', 'i2', 'i2', 'i2', 'i2', 'i2', 'i2', 'i2', 'i2', 'i2', 'i2', 'i2', 'i2', 'i2']\n"
     ]
    }
   ],
   "source": [
    "print(trajectory.site_labels())"
   ]
  },
  {
   "cell_type": "markdown",
   "metadata": {},
   "source": [
    "The trajectory currently does not have any timesteps associated with it."
   ]
  },
  {
   "cell_type": "code",
   "execution_count": 18,
   "metadata": {},
   "outputs": [
    {
     "data": {
      "text/plain": [
       "0"
      ]
     },
     "execution_count": 18,
     "metadata": {},
     "output_type": "execute_result"
    }
   ],
   "source": [
    "len(trajectory)"
   ]
  },
  {
   "cell_type": "markdown",
   "metadata": {},
   "source": [
    "We can analyse a structure as a timestep using `append_timestep()`."
   ]
  },
  {
   "cell_type": "code",
   "execution_count": 19,
   "metadata": {},
   "outputs": [
    {
     "data": {
      "text/plain": [
       "1"
      ]
     },
     "execution_count": 19,
     "metadata": {},
     "output_type": "execute_result"
    }
   ],
   "source": [
    "trajectory.append_timestep(structure)\n",
    "len(trajectory)"
   ]
  },
  {
   "cell_type": "markdown",
   "metadata": {},
   "source": [
    "The occupations of each site are stored as a list of lists, as each site can have zero, one, or multiple atoms occupying it."
   ]
  },
  {
   "cell_type": "code",
   "execution_count": 20,
   "metadata": {},
   "outputs": [
    {
     "data": {
      "text/plain": [
       "[194, 170, 138, 196, 140, 172]"
      ]
     },
     "execution_count": 20,
     "metadata": {},
     "output_type": "execute_result"
    }
   ],
   "source": [
    "sites[0].vertex_indices"
   ]
  },
  {
   "cell_type": "code",
   "execution_count": 21,
   "metadata": {},
   "outputs": [
    {
     "name": "stdout",
     "output_type": "stream",
     "text": [
      "[[50], [61], [64], [34], [32], [30], [46], [38], [56], [0], [], [40], [17], [19], [3], [15], [4], [75], [86], [], [71], [66], [52], [7], [25], [69], [44], [], [], [], [57], [60], [28], [36], [29], [35], [73], [], [], [39], [31], [37], [33], [83], [79], [84], [72], [], [49], [42], [21], [76], [81], [24], [13], [55], [11], [82], [10], [80], [22], [54], [47], [77], [14], [16], [6], [43], [5], [48], [67], [62], [59], [], [], [], [], [], [26], [87], [74], [45], [27], [9], [70], [23], [12], [68], [78], [65], [53], [18], [1], [41], [20], [], [8], [51], [63], [2], [85], [58], [], [], [], [], [], [], [], [], [], [], [], [], [], [], [], [], [], [], [], [], [], [], [], [], [], [], [], [], [], [], [], [], [], []]\n"
     ]
    }
   ],
   "source": [
    "print(trajectory.sites_trajectory[0])"
   ]
  },
  {
   "cell_type": "markdown",
   "metadata": {},
   "source": [
    "Rough example for collecting only occupied sites, and counting their site types:"
   ]
  },
  {
   "cell_type": "code",
   "execution_count": 22,
   "metadata": {},
   "outputs": [
    {
     "data": {
      "text/plain": [
       "Counter({'Na3': 15,\n",
       "         'Na4': 15,\n",
       "         'Na2': 29,\n",
       "         'Na5': 14,\n",
       "         'Na1': 15,\n",
       "         'Na6': 0,\n",
       "         'i2': 0})"
      ]
     },
     "execution_count": 22,
     "metadata": {},
     "output_type": "execute_result"
    }
   ],
   "source": [
    "c = Counter()\n",
    "for site in trajectory.sites:\n",
    "    c[site.label] += len([ 1 for ts in site.trajectory if len(ts)>0 ])\n",
    "c"
   ]
  },
  {
   "cell_type": "markdown",
   "metadata": {},
   "source": [
    "vs. all sites:"
   ]
  },
  {
   "cell_type": "code",
   "execution_count": 23,
   "metadata": {},
   "outputs": [
    {
     "data": {
      "text/plain": [
       "Counter({'Na3': 16,\n",
       "         'Na4': 16,\n",
       "         'Na2': 32,\n",
       "         'Na5': 16,\n",
       "         'Na1': 16,\n",
       "         'Na6': 8,\n",
       "         'i2': 32})"
      ]
     },
     "execution_count": 23,
     "metadata": {},
     "output_type": "execute_result"
    }
   ],
   "source": [
    "c_sites = Counter(trajectory.site_labels())\n",
    "c_sites"
   ]
  },
  {
   "cell_type": "code",
   "execution_count": 24,
   "metadata": {},
   "outputs": [
    {
     "data": {
      "application/vnd.jupyter.widget-view+json": {
       "model_id": "e12d9b7ef0444dfcb3d8762ea1e48e41",
       "version_major": 2,
       "version_minor": 0
      },
      "text/plain": [
       "  0%|          | 0/300 [00:00<?, ? steps/s]"
      ]
     },
     "metadata": {},
     "output_type": "display_data"
    }
   ],
   "source": [
    "trajectory.reset()\n",
    "\n",
    "xdatcar = Xdatcar('XDATCAR_Sn')\n",
    "\n",
    "trajectory.trajectory_from_structures( xdatcar.structures, progress='notebook')"
   ]
  },
  {
   "cell_type": "code",
   "execution_count": 25,
   "metadata": {},
   "outputs": [
    {
     "data": {
      "text/plain": [
       "{'Na3': 0.911875,\n",
       " 'Na4': 0.945625,\n",
       " 'Na2': 0.8944791666666667,\n",
       " 'Na5': 0.915,\n",
       " 'Na1': 0.9354166666666667,\n",
       " 'Na6': 0.0,\n",
       " 'i2': 0.0015625}"
      ]
     },
     "execution_count": 25,
     "metadata": {},
     "output_type": "execute_result"
    }
   ],
   "source": [
    "n_timesteps = len(trajectory.timesteps)\n",
    "c_sites = Counter(trajectory.site_labels())\n",
    "c = Counter()\n",
    "p_occ = {}\n",
    "for site in trajectory.sites:\n",
    "    c[site.label] += len([ 1 for ts in site.trajectory if len(ts)>0 ])\n",
    "for k, v in c.items():\n",
    "    p_occ[k] = v / c_sites[k] / n_timesteps\n",
    "p_occ"
   ]
  },
  {
   "cell_type": "code",
   "execution_count": 26,
   "metadata": {},
   "outputs": [
    {
     "name": "stdout",
     "output_type": "stream",
     "text": [
      "Na3 14.59\n",
      "Na4 15.13\n",
      "Na2 28.623333333333335\n",
      "Na5 14.64\n",
      "Na1 14.966666666666667\n",
      "Na6 0.0\n",
      "i2 0.05\n",
      "88.0\n"
     ]
    }
   ],
   "source": [
    "# check total average occupation = 88 atoms\n",
    "for k,v in c.items():\n",
    "    print( k, p_occ[k]*c_sites[k])\n",
    "print( sum( [ p_occ[k] * c_sites[k] for k, v in c.items()]))"
   ]
  }
 ],
 "metadata": {
  "kernelspec": {
   "display_name": "Python 3",
   "language": "python",
   "name": "python3"
  },
  "language_info": {
   "codemirror_mode": {
    "name": "ipython",
    "version": 3
   },
   "file_extension": ".py",
   "mimetype": "text/x-python",
   "name": "python",
   "nbconvert_exporter": "python",
   "pygments_lexer": "ipython3",
   "version": "3.9.1"
  }
 },
 "nbformat": 4,
 "nbformat_minor": 2
}
