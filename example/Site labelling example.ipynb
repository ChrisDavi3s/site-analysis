{
 "cells": [
  {
   "cell_type": "markdown",
   "metadata": {},
   "source": [
    "# labelled sites example"
   ]
  },
  {
   "cell_type": "code",
   "execution_count": 1,
   "metadata": {},
   "outputs": [],
   "source": [
    "from pymatgen.io.vasp import Poscar, Xdatcar\n",
    "import numpy as np\n",
    "import operator\n",
    "from site_analysis import Polyhedron, Atom, Analysis, get_vertex_indices, AtomsTrajectory, SitesTrajectory"
   ]
  },
  {
   "cell_type": "markdown",
   "metadata": {},
   "source": [
    "Load a `POSCAR` file where every octahedral site is occupied by a Na atom."
   ]
  },
  {
   "cell_type": "code",
   "execution_count": 2,
   "metadata": {},
   "outputs": [],
   "source": [
    "all_na_structure = Poscar.from_file('na_sn_all_na_new.POSCAR.vasp').structure\n",
    "vertex_species = 'S'\n",
    "centre_species = 'Na'"
   ]
  },
  {
   "cell_type": "markdown",
   "metadata": {},
   "source": [
    "Create six pymatgen Structures using the `Structure.from_spacegroup()` method, that each only contain the NaX sites, using the coordinates from Ramos _et al._ _Chem. Mater._ 2018."
   ]
  },
  {
   "cell_type": "code",
   "execution_count": 3,
   "metadata": {},
   "outputs": [],
   "source": [
    "from pymatgen import Structure, Lattice\n",
    "lattice = all_na_structure.lattice\n",
    "na1 = Structure.from_spacegroup(sg=142, lattice=lattice, species=['Na'], coords=[[0.0, 0.0, 0.125]])\n",
    "na2 = Structure.from_spacegroup(sg=142, lattice=lattice, species=['Na'], coords=[[0.00, 0.25, 0.000]])\n",
    "na3 = Structure.from_spacegroup(sg=142, lattice=lattice, species=['Na'], coords=[[0.0, 0.0, 0.25]])\n",
    "na4 = Structure.from_spacegroup(sg=142, lattice=lattice, species=['Na'], coords=[[0.0, 0.0, 0.0]])\n",
    "na5 = Structure.from_spacegroup(sg=142, lattice=lattice, species=['Na'], coords=[[0.25, 0.5, 0.125]])\n",
    "na6 = Structure.from_spacegroup(sg=142, lattice=lattice, species=['Na'], coords=[[0.0, 0.25, 0.125]])\n",
    "na_structures = {'Na1': na1,\n",
    "                 'Na2': na2,\n",
    "                 'Na3': na3,\n",
    "                 'Na4': na4,\n",
    "                 'Na5': na5,\n",
    "                 'Na6': na6}"
   ]
  },
  {
   "cell_type": "markdown",
   "metadata": {},
   "source": [
    "Import the `matching_site_indices()` function from `polyhedral_analysis` (I should probably just add this to the `site-analysis` package)."
   ]
  },
  {
   "cell_type": "code",
   "execution_count": 4,
   "metadata": {},
   "outputs": [],
   "source": [
    "from polyhedral_analysis.polyhedra_recipe import matching_site_indices"
   ]
  },
  {
   "cell_type": "code",
   "execution_count": 5,
   "metadata": {},
   "outputs": [
    {
     "name": "stdout",
     "output_type": "stream",
     "text": [
      "\n",
      "    Returns a subset of site indices from structure (as a list) where each site is the closest to one \n",
      "    site in the reference structure.\n",
      "    \n",
      "    Args:\n",
      "        structure (Structure): The structure being analysed.\n",
      "        reference_structure (Structure): A Structure object containing a set of reference sites.\n",
      "        species (:obj:`list[str]`, optional): A list of species labels. If this is set, only matching\n",
      "            sites will be included in the returned set.\n",
      "        \n",
      "    Returns:\n",
      "        (list[int])\n",
      "    \n"
     ]
    }
   ],
   "source": [
    "print(matching_site_indices.__doc__)"
   ]
  },
  {
   "cell_type": "code",
   "execution_count": 6,
   "metadata": {},
   "outputs": [
    {
     "data": {
      "text/plain": [
       "[9, 92, 68, 91, 66, 47, 12, 36, 99, 64, 14, 29, 100, 65, 13, 94]"
      ]
     },
     "execution_count": 6,
     "metadata": {},
     "output_type": "execute_result"
    }
   ],
   "source": [
    "matching_site_indices(all_na_structure, na_structures['Na1'])"
   ]
  },
  {
   "cell_type": "markdown",
   "metadata": {},
   "source": [
    "Use this to find the Na sites closest to a Na1, Na2, Na3 etc site, and store the site index and \"Na1\" etc. label in a dictionary, using the index as keys. Then sort this dictionary and generate an ordered list of \"Na1\" etc. labels for every Na site."
   ]
  },
  {
   "cell_type": "code",
   "execution_count": 7,
   "metadata": {},
   "outputs": [
    {
     "name": "stdout",
     "output_type": "stream",
     "text": [
      "['Na2', 'Na2', 'Na2', 'Na4', 'Na2', 'Na3', 'Na2', 'Na2', 'Na2', 'Na1', 'Na2', 'Na3', 'Na1', 'Na1', 'Na1', 'Na6', 'Na6', 'Na4', 'Na1', 'Na4', 'Na3', 'Na2', 'Na2', 'Na2', 'Na2', 'Na1', 'Na5', 'Na6', 'Na2', 'Na2', 'Na2', 'Na2', 'Na5', 'Na5', 'Na5', 'Na5', 'Na1', 'Na3', 'Na4', 'Na6', 'Na6', 'Na5', 'Na6', 'Na6', 'Na1', 'Na1', 'Na1', 'Na4', 'Na1', 'Na3', 'Na3', 'Na4', 'Na5', 'Na6', 'Na6', 'Na5', 'Na6', 'Na6', 'Na5', 'Na1', 'Na1', 'Na3', 'Na1', 'Na5', 'Na5', 'Na4', 'Na3', 'Na1', 'Na1', 'Na4', 'Na5', 'Na6', 'Na2', 'Na2', 'Na2', 'Na2', 'Na2', 'Na2', 'Na2', 'Na2', 'Na2', 'Na2', 'Na2', 'Na2', 'Na2', 'Na2', 'Na2', 'Na2', 'Na6', 'Na6', 'Na5', 'Na5', 'Na5', 'Na6', 'Na6', 'Na5']\n"
     ]
    }
   ],
   "source": [
    "labels = {}\n",
    "for l, structure in na_structures.items():\n",
    "    indices = matching_site_indices(all_na_structure, structure)\n",
    "    for i in indices:\n",
    "        labels[i] = l\n",
    "sorted_labels = [ labels[i] for i in sorted(labels) ]\n",
    "print( sorted_labels )"
   ]
  },
  {
   "cell_type": "markdown",
   "metadata": {},
   "source": [
    "We then use the `get_vertex_indices()` function to find the six closest S to each Na (within a cutoff of 4.3 Å).  \n",
    "This returns a nested list, where each sublist contains the S indices for a single polyedron.  \n",
    "Note: this index counts from 1, and ignores other species in the structure (so is not affected by species order)."
   ]
  },
  {
   "cell_type": "code",
   "execution_count": 8,
   "metadata": {},
   "outputs": [
    {
     "name": "stdout",
     "output_type": "stream",
     "text": [
      "[[27 29 59 61 83 85]\n",
      " [19 21 51 53 91 93]\n",
      " [ 9 15 41 47 65 71]\n",
      " [ 7 23 33 49 73 90]]\n"
     ]
    }
   ],
   "source": [
    "# find atom indices (within species) for all polyhedra vertex atoms\n",
    "vertex_indices = get_vertex_indices(all_na_structure, centre_species=centre_species, \n",
    "                                    vertex_species=vertex_species, cutoff=4.3)\n",
    "print(vertex_indices[:4])"
   ]
  },
  {
   "cell_type": "markdown",
   "metadata": {},
   "source": [
    "We can now use these vertex ids to define our `Polyhedron` objects.   \n",
    "We now also pass in the appropriate label to each polyhedron."
   ]
  },
  {
   "cell_type": "code",
   "execution_count": 9,
   "metadata": {},
   "outputs": [],
   "source": [
    "structure = Poscar.from_file('POSCAR').structure\n",
    "# create Polyhedron objects\n",
    "polyhedra = [Polyhedron(vertex_species=vertex_species, vertex_indices=vi, label=label) \n",
    "             for vi, label in zip(vertex_indices, sorted_labels)]"
   ]
  },
  {
   "cell_type": "code",
   "execution_count": 10,
   "metadata": {},
   "outputs": [
    {
     "data": {
      "text/plain": [
       "{'index': 1,\n",
       " 'vertex_species': 'S',\n",
       " 'vertex_indices': array([27, 29, 59, 61, 83, 85]),\n",
       " 'vertex_coords': None,\n",
       " 'contains_atoms': [],\n",
       " 'label': 'Na2'}"
      ]
     },
     "execution_count": 10,
     "metadata": {},
     "output_type": "execute_result"
    }
   ],
   "source": [
    "polyhedra[0].as_dict()"
   ]
  },
  {
   "cell_type": "code",
   "execution_count": 11,
   "metadata": {},
   "outputs": [
    {
     "data": {
      "text/plain": [
       "{'index': 35,\n",
       " 'vertex_species': 'S',\n",
       " 'vertex_indices': array([ 3,  5, 35, 37, 76, 78]),\n",
       " 'vertex_coords': None,\n",
       " 'contains_atoms': [],\n",
       " 'label': 'Na5'}"
      ]
     },
     "execution_count": 11,
     "metadata": {},
     "output_type": "execute_result"
    }
   ],
   "source": [
    "polyhedra[34].as_dict()"
   ]
  },
  {
   "cell_type": "markdown",
   "metadata": {},
   "source": [
    "To analyse the site occupation for a particular `pymatgen` `Structure`:"
   ]
  },
  {
   "cell_type": "code",
   "execution_count": null,
   "metadata": {},
   "outputs": [],
   "source": [
    "analysis.analyse_structure(structure)"
   ]
  },
  {
   "cell_type": "markdown",
   "metadata": {},
   "source": [
    "The list of sites occupied by each atom can now be accessed using `analysis.atom_sites`"
   ]
  },
  {
   "cell_type": "code",
   "execution_count": null,
   "metadata": {},
   "outputs": [],
   "source": [
    "np.array(analysis.atom_sites)"
   ]
  },
  {
   "cell_type": "markdown",
   "metadata": {},
   "source": [
    "The occupations of each site are stored as a list of lists, as each site can have zero, one, or multiple atoms occupying it."
   ]
  },
  {
   "cell_type": "code",
   "execution_count": null,
   "metadata": {},
   "outputs": [],
   "source": [
    "analysis.site_occupations[:4]"
   ]
  },
  {
   "cell_type": "markdown",
   "metadata": {},
   "source": [
    "There are two ways to think about a site-projected trajectory:  \n",
    "1. From an atom-centric perspective. Each atom visits a series of sites, and occupies one site each timestep.\n",
    "2. From a site-centric perspective. Each site is visited by a series of atoms, and has zero, one, or more atoms occupying it at each timestep.\n",
    "\n",
    "These two trajectory types are handled with the `AtomTrajectory` and `SiteTrajectory` classes:"
   ]
  },
  {
   "cell_type": "code",
   "execution_count": null,
   "metadata": {},
   "outputs": [],
   "source": [
    "at = AtomsTrajectory(atoms)\n",
    "st = SitesTrajectory(polyhedra)"
   ]
  },
  {
   "cell_type": "markdown",
   "metadata": {},
   "source": [
    "The `AtomTrajectory` and `SiteTrajectory` classes provide convenient wrappers for storing sequences of site-occupation data. Both classes have `append_timestep()` methods, e.g. to add analysis data at $t=1$:"
   ]
  },
  {
   "cell_type": "code",
   "execution_count": null,
   "metadata": {},
   "outputs": [],
   "source": [
    "at.append_timestep(analysis.atom_sites, t=1)\n",
    "st.append_timestep(analysis.site_occupations, t=1)"
   ]
  },
  {
   "cell_type": "code",
   "execution_count": null,
   "metadata": {},
   "outputs": [],
   "source": [
    "print(at.timesteps)\n",
    "print(at.data)"
   ]
  },
  {
   "cell_type": "code",
   "execution_count": null,
   "metadata": {},
   "outputs": [],
   "source": [
    "print(st.data[0][:4])\n",
    "print(st.timesteps)"
   ]
  },
  {
   "cell_type": "markdown",
   "metadata": {},
   "source": [
    "An `Analysis` object also has an `append_timestep()` method, that updates the `atoms_trajectory`, `sites_trajectory`, and `timesteps` attributes:"
   ]
  },
  {
   "cell_type": "code",
   "execution_count": null,
   "metadata": {},
   "outputs": [],
   "source": [
    "analysis.reset()\n",
    "analysis.append_timestep(structure,t=1)\n",
    "print(analysis.timesteps)\n",
    "print(analysis.atoms_trajectory.data[0])"
   ]
  },
  {
   "cell_type": "markdown",
   "metadata": {},
   "source": [
    "Example of processing a simulation trajectory using the `XDATCAR` file:"
   ]
  },
  {
   "cell_type": "code",
   "execution_count": null,
   "metadata": {},
   "outputs": [],
   "source": [
    "%%timeit\n",
    "analysis.reset()\n",
    "\n",
    "xdatcar = Xdatcar('XDATCAR')\n",
    "\n",
    "for timestep, s in enumerate(xdatcar.structures):\n",
    "    analysis.append_timestep(s, t=timestep)"
   ]
  },
  {
   "cell_type": "markdown",
   "metadata": {},
   "source": [
    "Checking which sites has Na(4) visited:  \n",
    "(note use of `analysis.at` as shorthand for `analysis.atoms_trajectory`)"
   ]
  },
  {
   "cell_type": "code",
   "execution_count": null,
   "metadata": {},
   "outputs": [],
   "source": [
    "analysis.at.by_atom_index(4) # convert to a numpy array to then use numpy array slicing to extract a single atom trajectory."
   ]
  },
  {
   "cell_type": "markdown",
   "metadata": {},
   "source": [
    "Na(4) starts in site 15, and moves to site 73 at timestep 5.  \n",
    "The same information can be seen by querying the site occupation data for sites 15 and 73:  \n",
    "(note use of `analysis.st` as shorthand for `analysis.sites_trajectory`)"
   ]
  },
  {
   "cell_type": "code",
   "execution_count": null,
   "metadata": {},
   "outputs": [],
   "source": [
    "print(analysis.st.by_site_index(15))\n",
    "print(analysis.st.by_site_index(73))"
   ]
  },
  {
   "cell_type": "code",
   "execution_count": null,
   "metadata": {},
   "outputs": [],
   "source": [
    "d = atoms[0].to()\n",
    "d"
   ]
  },
  {
   "cell_type": "code",
   "execution_count": null,
   "metadata": {},
   "outputs": [],
   "source": [
    "atoms[0].to('atom.json')"
   ]
  },
  {
   "cell_type": "code",
   "execution_count": null,
   "metadata": {},
   "outputs": [],
   "source": [
    "Atom.from_file('atom.json').frac_coords"
   ]
  },
  {
   "cell_type": "code",
   "execution_count": null,
   "metadata": {},
   "outputs": [],
   "source": [
    "d = polyhedra[0].as_dict()\n",
    "d"
   ]
  },
  {
   "cell_type": "code",
   "execution_count": null,
   "metadata": {},
   "outputs": [],
   "source": [
    "p = Polyhedron.from_dict(d)"
   ]
  },
  {
   "cell_type": "code",
   "execution_count": null,
   "metadata": {},
   "outputs": [],
   "source": [
    "p.vertex_coords"
   ]
  },
  {
   "cell_type": "code",
   "execution_count": null,
   "metadata": {},
   "outputs": [],
   "source": [
    "d = analysis.at.to_dict()"
   ]
  },
  {
   "cell_type": "code",
   "execution_count": null,
   "metadata": {},
   "outputs": [],
   "source": [
    "AtomsTrajectory.from_dict(d).atom_lookup"
   ]
  },
  {
   "cell_type": "code",
   "execution_count": null,
   "metadata": {},
   "outputs": [],
   "source": [
    "d = analysis.st.to_dict()\n",
    "d"
   ]
  },
  {
   "cell_type": "code",
   "execution_count": null,
   "metadata": {},
   "outputs": [],
   "source": [
    "SitesTrajectory.from_dict(d).site_lookup"
   ]
  },
  {
   "cell_type": "code",
   "execution_count": null,
   "metadata": {},
   "outputs": [],
   "source": []
  }
 ],
 "metadata": {
  "kernelspec": {
   "display_name": "Python 3",
   "language": "python",
   "name": "python3"
  },
  "language_info": {
   "codemirror_mode": {
    "name": "ipython",
    "version": 3
   },
   "file_extension": ".py",
   "mimetype": "text/x-python",
   "name": "python",
   "nbconvert_exporter": "python",
   "pygments_lexer": "ipython3",
   "version": "3.7.0"
  }
 },
 "nbformat": 4,
 "nbformat_minor": 2
}
