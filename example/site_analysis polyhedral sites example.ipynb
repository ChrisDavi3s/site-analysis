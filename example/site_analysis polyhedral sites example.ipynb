{
 "cells": [
  {
   "cell_type": "code",
   "execution_count": 1,
   "metadata": {},
   "outputs": [],
   "source": [
    "import numpy as np"
   ]
  },
  {
   "cell_type": "markdown",
   "metadata": {},
   "source": [
    "# `site-analysis` draft documentation\n",
    "\n",
    "`site_analysis` is a Python module for analysing molucular dynamics trajectories to identify the movement of mobile atoms through sequences of &ldquo;sites&rdquo;.\n",
    "\n",
    "The central objects in `site_analysis` are the set of mobile atoms, represented by `Atom` objects, and the set of sites, represented by `Site` objects. `Site` objects are subclassed according to how site occupations are defined; you can work with `PolyhedralSite`, `SphericalSite`, and `VoronoiSite` types."
   ]
  },
  {
   "cell_type": "markdown",
   "metadata": {},
   "source": [
    "## example trajectory analysis\n",
    "\n",
    "For this example we want to analyse a simulation trajectory using polyhedral sites. An example structure to analyse is defined in the file `POSCAR`, which we read in as a pymatgen `Structure`:\n"
   ]
  },
  {
   "cell_type": "code",
   "execution_count": 2,
   "metadata": {},
   "outputs": [
    {
     "name": "stdout",
     "output_type": "stream",
     "text": [
      "Na88 Sn16 P8 S96\n"
     ]
    }
   ],
   "source": [
    "from pymatgen.io.vasp import Poscar\n",
    "structure = Poscar.from_file('POSCAR').structure\n",
    "print(structure.composition)"
   ]
  },
  {
   "cell_type": "markdown",
   "metadata": {},
   "source": [
    "Our mobile atoms are Na. These are tracked using their index in the structures (`site_analysis` assumes that atom order is preserved throughout a simulation trajectory)."
   ]
  },
  {
   "cell_type": "code",
   "execution_count": 3,
   "metadata": {},
   "outputs": [
    {
     "data": {
      "text/plain": [
       "[site_analysis.Atom(index=0, in_site=None, frac_coords=None),\n",
       " site_analysis.Atom(index=1, in_site=None, frac_coords=None),\n",
       " site_analysis.Atom(index=2, in_site=None, frac_coords=None)]"
      ]
     },
     "execution_count": 3,
     "metadata": {},
     "output_type": "execute_result"
    }
   ],
   "source": [
    "from site_analysis.atom import atoms_from_species_string\n",
    "atoms = atoms_from_species_string(structure, 'Na')\n",
    "atoms[0:3]"
   ]
  },
  {
   "cell_type": "markdown",
   "metadata": {},
   "source": [
    "We also need to define our sites. In this example we want **polyhedral** sites, where each site is defined as the polyhedral volume enclosed by a set of vertex atoms. We therefore need to find the atom indices of the vertex atoms for each of our sites."
   ]
  },
  {
   "cell_type": "code",
   "execution_count": 4,
   "metadata": {},
   "outputs": [],
   "source": [
    "from pymatgen.io.vasp import Poscar, Xdatcar\n",
    "import numpy as np\n",
    "import operator\n",
    "from site_analysis.polyhedral_site import PolyhedralSite\n",
    "from site_analysis.atom import atoms_from_species_string\n",
    "from site_analysis.trajectory import Trajectory\n",
    "from site_analysis.tools import get_vertex_indices"
   ]
  },
  {
   "cell_type": "markdown",
   "metadata": {},
   "source": [
    "To do this we load a `POSCAR` file where every octahedral site is occupied by a Na atom."
   ]
  },
  {
   "cell_type": "code",
   "execution_count": 5,
   "metadata": {},
   "outputs": [
    {
     "data": {
      "text/plain": [
       "Comp: Na136 Sn16 P8 S96"
      ]
     },
     "execution_count": 5,
     "metadata": {},
     "output_type": "execute_result"
    }
   ],
   "source": [
    "all_na_structure = Poscar.from_file('na_sn_all_na_ext.POSCAR.vasp').structure\n",
    "vertex_species = 'S'\n",
    "centre_species = 'Na'\n",
    "all_na_structure.composition"
   ]
  },
  {
   "cell_type": "markdown",
   "metadata": {},
   "source": [
    "We then use the `get_vertex_indices()` function to find the six closest S to each Na (within a cutoff of 4.3 Å).  \n",
    "This returns a nested list, where each sublist contains the S indices for a single polyhedron. In this case we have 136 Na atoms, but only 88 in our real simulation trajectory, so we subtract 48 to align the vertex indices."
   ]
  },
  {
   "cell_type": "code",
   "execution_count": 6,
   "metadata": {},
   "outputs": [
    {
     "name": "stdout",
     "output_type": "stream",
     "text": [
      "[[242 218 186 244 188 220]\n",
      " [250 252 178 212 180 210]\n",
      " [230 174 224 206 168 200]\n",
      " [166 192 232 208 182 249]]\n",
      "[[194 170 138 196 140 172]\n",
      " [202 204 130 164 132 162]\n",
      " [182 126 176 158 120 152]\n",
      " [118 144 184 160 134 201]]\n"
     ]
    }
   ],
   "source": [
    "# find atom indices (within species) for all polyhedra vertex atoms\n",
    "vertex_indices = np.array(get_vertex_indices(all_na_structure, centre_species=centre_species, \n",
    "                                             vertex_species=vertex_species, cutoff=4.3))\n",
    "print(vertex_indices[:4])\n",
    "# Our real structures contain 88 Na atoms, so we correct these vertex indices\n",
    "vertex_indices = vertex_indices - 48\n",
    "print(vertex_indices[:4])"
   ]
  },
  {
   "cell_type": "markdown",
   "metadata": {},
   "source": [
    "We can now use these vertex ids to define our `Polyhedron` objects.  "
   ]
  },
  {
   "cell_type": "code",
   "execution_count": 7,
   "metadata": {},
   "outputs": [],
   "source": [
    "sites = PolyhedralSite.sites_from_vertex_indices(vertex_indices)"
   ]
  },
  {
   "cell_type": "code",
   "execution_count": 8,
   "metadata": {},
   "outputs": [
    {
     "data": {
      "text/plain": [
       "[site_analysis.PolyhedralSite(index=0, label=None, vertex_indices=[194 170 138 196 140 172], contains_atoms=[]),\n",
       " site_analysis.PolyhedralSite(index=1, label=None, vertex_indices=[202 204 130 164 132 162], contains_atoms=[]),\n",
       " site_analysis.PolyhedralSite(index=2, label=None, vertex_indices=[182 126 176 158 120 152], contains_atoms=[])]"
      ]
     },
     "execution_count": 8,
     "metadata": {},
     "output_type": "execute_result"
    }
   ],
   "source": [
    "sites[:3]"
   ]
  },
  {
   "cell_type": "markdown",
   "metadata": {},
   "source": [
    "We now create a `Trajectory` object:"
   ]
  },
  {
   "cell_type": "code",
   "execution_count": 9,
   "metadata": {},
   "outputs": [
    {
     "data": {
      "text/plain": [
       "<site_analysis.trajectory.Trajectory at 0x128a73f98>"
      ]
     },
     "execution_count": 9,
     "metadata": {},
     "output_type": "execute_result"
    }
   ],
   "source": [
    "trajectory = Trajectory(sites=sites,\n",
    "                        atoms=atoms)\n",
    "trajectory"
   ]
  },
  {
   "cell_type": "markdown",
   "metadata": {},
   "source": [
    "The `Trajectory` object provides the main interface for working with the `Polyhedron` and `Atom` objects.  "
   ]
  },
  {
   "cell_type": "markdown",
   "metadata": {},
   "source": [
    "To analyse the site occupation for a particular `pymatgen` `Structure`:"
   ]
  },
  {
   "cell_type": "code",
   "execution_count": 10,
   "metadata": {},
   "outputs": [],
   "source": [
    "trajectory.analyse_structure(structure)"
   ]
  },
  {
   "cell_type": "markdown",
   "metadata": {},
   "source": [
    "The list of sites occupied by each atom can now be accessed using `trajectory.atom_sites`"
   ]
  },
  {
   "cell_type": "code",
   "execution_count": 11,
   "metadata": {},
   "outputs": [
    {
     "data": {
      "text/plain": [
       "array([  9,  92,  99,  14,  16,  68,  66,  23,  96,  83,  58,  56,  86,\n",
       "        54,  64,  15,  65,  12,  91,  13,  94,  50,  60,  85,  53,  24,\n",
       "        78,  82,  32,  34,   5,  40,   4,  42,   3,  35,  33,  41,   7,\n",
       "        39,  11,  93,  49,  67,  26,  81,   6,  62,  69,  48,   0,  97,\n",
       "        22,  90,  61,  55,   8,  30, 101,  72,  31,   1,  71,  98,   2,\n",
       "        89,  21,  70,  87,  25,  84,  20,  46,  36,  80,  17,  51,  63,\n",
       "        88,  44,  59,  52,  57,  43,  45, 100,  18,  79])"
      ]
     },
     "execution_count": 11,
     "metadata": {},
     "output_type": "execute_result"
    }
   ],
   "source": [
    "np.array(trajectory.atom_sites)"
   ]
  },
  {
   "cell_type": "markdown",
   "metadata": {},
   "source": [
    "e.g. atom index 0 is occupying site index 9 (both counting from zero)"
   ]
  },
  {
   "cell_type": "code",
   "execution_count": 12,
   "metadata": {},
   "outputs": [
    {
     "name": "stdout",
     "output_type": "stream",
     "text": [
      "True\n",
      "False\n"
     ]
    }
   ],
   "source": [
    "s = trajectory.sites[9]\n",
    "print(s.contains_atom(trajectory.atoms[0]))\n",
    "print(s.contains_atom(trajectory.atoms[1]))"
   ]
  },
  {
   "cell_type": "code",
   "execution_count": 13,
   "metadata": {},
   "outputs": [
    {
     "name": "stdout",
     "output_type": "stream",
     "text": [
      "True\n",
      "False\n"
     ]
    }
   ],
   "source": [
    "s = trajectory.site_by_index(9)\n",
    "print(s.contains_atom(trajectory.atom_by_index(0)))\n",
    "print(s.contains_atom(trajectory.atom_by_index(1)))"
   ]
  },
  {
   "cell_type": "markdown",
   "metadata": {},
   "source": [
    "The list of atoms occupying each site can be accessed using `trajectory.site_occupations`.  \n",
    "The occupations of each site are stored as a list of lists, as each site can have zero, one, or multiple atoms occupying it."
   ]
  },
  {
   "cell_type": "code",
   "execution_count": 14,
   "metadata": {},
   "outputs": [
    {
     "data": {
      "text/plain": [
       "[[50],\n",
       " [61],\n",
       " [64],\n",
       " [34],\n",
       " [32],\n",
       " [30],\n",
       " [46],\n",
       " [38],\n",
       " [56],\n",
       " [0],\n",
       " [],\n",
       " [40],\n",
       " [17],\n",
       " [19],\n",
       " [3],\n",
       " [15],\n",
       " [4],\n",
       " [75],\n",
       " [86],\n",
       " [],\n",
       " [71],\n",
       " [66],\n",
       " [52],\n",
       " [7],\n",
       " [25],\n",
       " [69],\n",
       " [44],\n",
       " [],\n",
       " [],\n",
       " [],\n",
       " [57],\n",
       " [60],\n",
       " [28],\n",
       " [36],\n",
       " [29],\n",
       " [35],\n",
       " [73],\n",
       " [],\n",
       " [],\n",
       " [39],\n",
       " [31],\n",
       " [37],\n",
       " [33],\n",
       " [83],\n",
       " [79],\n",
       " [84],\n",
       " [72],\n",
       " [],\n",
       " [49],\n",
       " [42],\n",
       " [21],\n",
       " [76],\n",
       " [81],\n",
       " [24],\n",
       " [13],\n",
       " [55],\n",
       " [11],\n",
       " [82],\n",
       " [10],\n",
       " [80],\n",
       " [22],\n",
       " [54],\n",
       " [47],\n",
       " [77],\n",
       " [14],\n",
       " [16],\n",
       " [6],\n",
       " [43],\n",
       " [5],\n",
       " [48],\n",
       " [67],\n",
       " [62],\n",
       " [59],\n",
       " [],\n",
       " [],\n",
       " [],\n",
       " [],\n",
       " [],\n",
       " [26],\n",
       " [87],\n",
       " [74],\n",
       " [45],\n",
       " [27],\n",
       " [9],\n",
       " [70],\n",
       " [23],\n",
       " [12],\n",
       " [68],\n",
       " [78],\n",
       " [65],\n",
       " [53],\n",
       " [18],\n",
       " [1],\n",
       " [41],\n",
       " [20],\n",
       " [],\n",
       " [8],\n",
       " [51],\n",
       " [63],\n",
       " [2],\n",
       " [85],\n",
       " [58],\n",
       " [],\n",
       " [],\n",
       " [],\n",
       " [],\n",
       " [],\n",
       " [],\n",
       " [],\n",
       " [],\n",
       " [],\n",
       " [],\n",
       " [],\n",
       " [],\n",
       " [],\n",
       " [],\n",
       " [],\n",
       " [],\n",
       " [],\n",
       " [],\n",
       " [],\n",
       " [],\n",
       " [],\n",
       " [],\n",
       " [],\n",
       " [],\n",
       " [],\n",
       " [],\n",
       " [],\n",
       " [],\n",
       " [],\n",
       " [],\n",
       " [],\n",
       " [],\n",
       " [],\n",
       " []]"
      ]
     },
     "execution_count": 14,
     "metadata": {},
     "output_type": "execute_result"
    }
   ],
   "source": [
    "trajectory.site_occupations"
   ]
  },
  {
   "cell_type": "markdown",
   "metadata": {},
   "source": [
    "A *trajectory* consists of a series of site occupations over multiple timesteps. A single timestep can be processed using the `analysis.append_timestep()` method:"
   ]
  },
  {
   "cell_type": "code",
   "execution_count": 15,
   "metadata": {},
   "outputs": [],
   "source": [
    "trajectory.append_timestep(structure)"
   ]
  },
  {
   "cell_type": "markdown",
   "metadata": {},
   "source": [
    "There are two ways to think about a site-projected trajectory:  \n",
    "1. From an atom-centric perspective. Each atom visits a series of sites, and occupies one site each timestep.\n",
    "2. From a site-centric perspective. Each site is visited by a series of atoms, and has zero, one, or more atoms occupying it at each timestep.\n",
    "\n",
    "These two trajectory types can be accessed using the `Atom.trajectory` and `Site.trajectory` attributes:"
   ]
  },
  {
   "cell_type": "code",
   "execution_count": 16,
   "metadata": {},
   "outputs": [
    {
     "name": "stdout",
     "output_type": "stream",
     "text": [
      "[14]\n"
     ]
    }
   ],
   "source": [
    "print(atoms[3].trajectory)"
   ]
  },
  {
   "cell_type": "code",
   "execution_count": 17,
   "metadata": {},
   "outputs": [
    {
     "name": "stdout",
     "output_type": "stream",
     "text": [
      "[[34]]\n"
     ]
    }
   ],
   "source": [
    "print(sites[3].trajectory)"
   ]
  },
  {
   "cell_type": "code",
   "execution_count": 18,
   "metadata": {},
   "outputs": [
    {
     "data": {
      "text/plain": [
       "[None]"
      ]
     },
     "execution_count": 18,
     "metadata": {},
     "output_type": "execute_result"
    }
   ],
   "source": [
    "trajectory.timesteps"
   ]
  },
  {
   "cell_type": "code",
   "execution_count": 19,
   "metadata": {},
   "outputs": [
    {
     "data": {
      "text/plain": [
       "array([[  9,  92,  99,  14,  16,  68,  66,  23,  96,  83,  58,  56,  86,\n",
       "         54,  64,  15,  65,  12,  91,  13,  94,  50,  60,  85,  53,  24,\n",
       "         78,  82,  32,  34,   5,  40,   4,  42,   3,  35,  33,  41,   7,\n",
       "         39,  11,  93,  49,  67,  26,  81,   6,  62,  69,  48,   0,  97,\n",
       "         22,  90,  61,  55,   8,  30, 101,  72,  31,   1,  71,  98,   2,\n",
       "         89,  21,  70,  87,  25,  84,  20,  46,  36,  80,  17,  51,  63,\n",
       "         88,  44,  59,  52,  57,  43,  45, 100,  18,  79]])"
      ]
     },
     "execution_count": 19,
     "metadata": {},
     "output_type": "execute_result"
    }
   ],
   "source": [
    "np.array(trajectory.atoms_trajectory)"
   ]
  },
  {
   "cell_type": "code",
   "execution_count": 20,
   "metadata": {},
   "outputs": [
    {
     "data": {
      "text/plain": [
       "[[[50],\n",
       "  [61],\n",
       "  [64],\n",
       "  [34],\n",
       "  [32],\n",
       "  [30],\n",
       "  [46],\n",
       "  [38],\n",
       "  [56],\n",
       "  [0],\n",
       "  [],\n",
       "  [40],\n",
       "  [17],\n",
       "  [19],\n",
       "  [3],\n",
       "  [15],\n",
       "  [4],\n",
       "  [75],\n",
       "  [86],\n",
       "  [],\n",
       "  [71],\n",
       "  [66],\n",
       "  [52],\n",
       "  [7],\n",
       "  [25],\n",
       "  [69],\n",
       "  [44],\n",
       "  [],\n",
       "  [],\n",
       "  [],\n",
       "  [57],\n",
       "  [60],\n",
       "  [28],\n",
       "  [36],\n",
       "  [29],\n",
       "  [35],\n",
       "  [73],\n",
       "  [],\n",
       "  [],\n",
       "  [39],\n",
       "  [31],\n",
       "  [37],\n",
       "  [33],\n",
       "  [83],\n",
       "  [79],\n",
       "  [84],\n",
       "  [72],\n",
       "  [],\n",
       "  [49],\n",
       "  [42],\n",
       "  [21],\n",
       "  [76],\n",
       "  [81],\n",
       "  [24],\n",
       "  [13],\n",
       "  [55],\n",
       "  [11],\n",
       "  [82],\n",
       "  [10],\n",
       "  [80],\n",
       "  [22],\n",
       "  [54],\n",
       "  [47],\n",
       "  [77],\n",
       "  [14],\n",
       "  [16],\n",
       "  [6],\n",
       "  [43],\n",
       "  [5],\n",
       "  [48],\n",
       "  [67],\n",
       "  [62],\n",
       "  [59],\n",
       "  [],\n",
       "  [],\n",
       "  [],\n",
       "  [],\n",
       "  [],\n",
       "  [26],\n",
       "  [87],\n",
       "  [74],\n",
       "  [45],\n",
       "  [27],\n",
       "  [9],\n",
       "  [70],\n",
       "  [23],\n",
       "  [12],\n",
       "  [68],\n",
       "  [78],\n",
       "  [65],\n",
       "  [53],\n",
       "  [18],\n",
       "  [1],\n",
       "  [41],\n",
       "  [20],\n",
       "  [],\n",
       "  [8],\n",
       "  [51],\n",
       "  [63],\n",
       "  [2],\n",
       "  [85],\n",
       "  [58],\n",
       "  [],\n",
       "  [],\n",
       "  [],\n",
       "  [],\n",
       "  [],\n",
       "  [],\n",
       "  [],\n",
       "  [],\n",
       "  [],\n",
       "  [],\n",
       "  [],\n",
       "  [],\n",
       "  [],\n",
       "  [],\n",
       "  [],\n",
       "  [],\n",
       "  [],\n",
       "  [],\n",
       "  [],\n",
       "  [],\n",
       "  [],\n",
       "  [],\n",
       "  [],\n",
       "  [],\n",
       "  [],\n",
       "  [],\n",
       "  [],\n",
       "  [],\n",
       "  [],\n",
       "  [],\n",
       "  [],\n",
       "  [],\n",
       "  [],\n",
       "  []]]"
      ]
     },
     "execution_count": 20,
     "metadata": {},
     "output_type": "execute_result"
    }
   ],
   "source": [
    "trajectory.sites_trajectory"
   ]
  },
  {
   "cell_type": "markdown",
   "metadata": {},
   "source": [
    "Example of processing a simulation trajectory using the `XDATCAR` file:  \n",
    "(using `analysis.reset()` to reset the trajectory data.)"
   ]
  },
  {
   "cell_type": "code",
   "execution_count": 21,
   "metadata": {},
   "outputs": [],
   "source": [
    "trajectory.reset()\n",
    "\n",
    "xdatcar = Xdatcar('XDATCAR')\n",
    "\n",
    "for timestep, s in enumerate(xdatcar.structures):\n",
    "    trajectory.append_timestep(s, t=timestep)"
   ]
  },
  {
   "cell_type": "markdown",
   "metadata": {},
   "source": [
    "Checking which sites has Na(3) visited:  "
   ]
  },
  {
   "cell_type": "code",
   "execution_count": 22,
   "metadata": {},
   "outputs": [
    {
     "name": "stdout",
     "output_type": "stream",
     "text": [
      "[14, 14, 14, 14, 72, 72, 72, 72, 72, 72, 72, 72, 72, 72, 72, 72, 72, 72, 72, 72]\n"
     ]
    }
   ],
   "source": [
    "print(trajectory.atom_by_index(3).trajectory) # convert to a numpy array to then use numpy array slicing to extract a single atom trajectory."
   ]
  },
  {
   "cell_type": "markdown",
   "metadata": {},
   "source": [
    "Na(4) starts in site 14, and moves to site 72 at timestep 5.  \n",
    "The same information can be seen by querying the site occupation data for sites 15 and 73:  \n",
    "(note use of `analysis.st` as shorthand for `analysis.sites_trajectory`)"
   ]
  },
  {
   "cell_type": "code",
   "execution_count": 23,
   "metadata": {},
   "outputs": [
    {
     "name": "stdout",
     "output_type": "stream",
     "text": [
      "[[3], [3], [3], [3], [], [], [], [], [], [], [], [], [], [], [], [], [], [], [], []]\n",
      "[[], [], [], [], [3], [3], [3], [3], [3], [3], [3], [3], [3], [3], [3], [3], [3], [3], [3], [3]]\n"
     ]
    }
   ],
   "source": [
    "print(trajectory.site_by_index(14).trajectory)\n",
    "print(trajectory.site_by_index(72).trajectory)"
   ]
  },
  {
   "cell_type": "code",
   "execution_count": null,
   "metadata": {},
   "outputs": [],
   "source": []
  }
 ],
 "metadata": {
  "kernelspec": {
   "display_name": "Python 3",
   "language": "python",
   "name": "python3"
  },
  "language_info": {
   "codemirror_mode": {
    "name": "ipython",
    "version": 3
   },
   "file_extension": ".py",
   "mimetype": "text/x-python",
   "name": "python",
   "nbconvert_exporter": "python",
   "pygments_lexer": "ipython3",
   "version": "3.7.0"
  }
 },
 "nbformat": 4,
 "nbformat_minor": 2
}
