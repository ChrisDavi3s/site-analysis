{
 "cells": [
  {
   "cell_type": "markdown",
   "metadata": {},
   "source": [
    "# ShortestDistanceSite example"
   ]
  },
  {
   "cell_type": "code",
   "execution_count": 1,
   "metadata": {},
   "outputs": [],
   "source": [
    "from pymatgen.io.vasp import Poscar, Xdatcar\n",
    "from pymatgen.symmetry.groups import SpaceGroup\n",
    "from pymatgen import Lattice\n",
    "import numpy as np\n",
    "import operator\n",
    "from site_analysis import Atom, Analysis, ShortestDistanceSite, get_vertex_indices, AtomsTrajectory, SitesTrajectory\n",
    "from collections import Counter\n",
    "import tqdm"
   ]
  },
  {
   "cell_type": "markdown",
   "metadata": {},
   "source": [
    "Load a `POSCAR` file where every octahedral site is occupied by a Na atom."
   ]
  },
  {
   "cell_type": "code",
   "execution_count": 2,
   "metadata": {},
   "outputs": [],
   "source": [
    "all_na_structure = Poscar.from_file('na_sn_all_na_ext.POSCAR.vasp').structure\n",
    "vertex_species = 'S'\n",
    "centre_species = 'Na'"
   ]
  },
  {
   "cell_type": "markdown",
   "metadata": {},
   "source": [
    "Create a series of pymatgen Structures using the `Structure.from_spacegroup()` method, that each only contain the NaX sites, using the coordinates from Ramos _et al._ _Chem. Mater._ 2018."
   ]
  },
  {
   "cell_type": "code",
   "execution_count": 3,
   "metadata": {},
   "outputs": [],
   "source": [
    "sg = SpaceGroup('I41/acd:2')"
   ]
  },
  {
   "cell_type": "code",
   "execution_count": 4,
   "metadata": {},
   "outputs": [],
   "source": [
    "from pymatgen import Structure, Lattice\n",
    "lattice = all_na_structure.lattice\n",
    "na1 = Structure.from_spacegroup(sg='I41/acd:2', lattice=lattice, species=['Na'], coords=[[0.25, 0.0, 0.125]])\n",
    "na2 = Structure.from_spacegroup(sg='I41/acd:2', lattice=lattice, species=['Na'], coords=[[0.00, 0.0, 0.125]])\n",
    "na3 = Structure.from_spacegroup(sg='I41/acd:2', lattice=lattice, species=['Na'], coords=[[0.0, 0.25, 0.0]])\n",
    "na4 = Structure.from_spacegroup(sg='I41/acd:2', lattice=lattice, species=['Na'], coords=[[0.0, 0.0, 0.0]])\n",
    "na5 = Structure.from_spacegroup(sg='I41/acd:2', lattice=lattice, species=['Na'], coords=[[0.75, 0.25, 0.0]])\n",
    "na6 = Structure.from_spacegroup(sg='I41/acd:2', lattice=lattice, species=['Na'], coords=[[0.5, 0.75, 0.625]])\n",
    "i2  = Structure.from_spacegroup(sg='I41/acd:2', lattice=lattice, species=['Na'], coords=[[0.666, 0.1376, 0.05]])\n",
    "na_structures = {'Na1': na1,\n",
    "                 'Na2': na2,\n",
    "                 'Na3': na3,\n",
    "                 'Na4': na4,\n",
    "                 'Na5': na5,\n",
    "                 'Na6': na6, \n",
    "                 'i2': i2}"
   ]
  },
  {
   "cell_type": "code",
   "execution_count": 5,
   "metadata": {},
   "outputs": [],
   "source": [
    "na1_sites = [ ShortestDistanceSite(s.frac_coords, label='Na1') for s in na1 ]\n",
    "na2_sites = [ ShortestDistanceSite(s.frac_coords, label='Na2') for s in na2 ]\n",
    "na3_sites = [ ShortestDistanceSite(s.frac_coords, label='Na3') for s in na3 ]\n",
    "na4_sites = [ ShortestDistanceSite(s.frac_coords, label='Na4') for s in na4 ]\n",
    "na5_sites = [ ShortestDistanceSite(s.frac_coords, label='Na5') for s in na5 ]\n",
    "na6_sites = [ ShortestDistanceSite(s.frac_coords, label='Na6') for s in na6 ]\n",
    "i2_sites  = [ ShortestDistanceSite(s.frac_coords, label='i2') for s in i2 ]\n",
    "sites = na1_sites + na2_sites + na3_sites + na4_sites + na5_sites + na6_sites + i2_sites"
   ]
  },
  {
   "cell_type": "code",
   "execution_count": 6,
   "metadata": {},
   "outputs": [],
   "source": [
    "structure = Poscar.from_file('POSCAR').structure\n",
    "# create Polyhedron objects\n",
    "# create Atom objects\n",
    "atoms = [Atom(species_string=centre_species) for site in structure if site.species_string is 'Na']\n",
    "analysis = Analysis(sites, atoms)"
   ]
  },
  {
   "cell_type": "code",
   "execution_count": 7,
   "metadata": {},
   "outputs": [
    {
     "name": "stdout",
     "output_type": "stream",
     "text": [
      "['Na1', 'Na1', 'Na1', 'Na1', 'Na1', 'Na1', 'Na1', 'Na1', 'Na1', 'Na1', 'Na1', 'Na1', 'Na1', 'Na1', 'Na1', 'Na1', 'Na2', 'Na2', 'Na2', 'Na2', 'Na2', 'Na2', 'Na2', 'Na2', 'Na2', 'Na2', 'Na2', 'Na2', 'Na2', 'Na2', 'Na2', 'Na2', 'Na2', 'Na2', 'Na2', 'Na2', 'Na2', 'Na2', 'Na2', 'Na2', 'Na2', 'Na2', 'Na2', 'Na2', 'Na2', 'Na2', 'Na2', 'Na2', 'Na3', 'Na3', 'Na3', 'Na3', 'Na3', 'Na3', 'Na3', 'Na3', 'Na3', 'Na3', 'Na3', 'Na3', 'Na3', 'Na3', 'Na3', 'Na3', 'Na4', 'Na4', 'Na4', 'Na4', 'Na4', 'Na4', 'Na4', 'Na4', 'Na4', 'Na4', 'Na4', 'Na4', 'Na4', 'Na4', 'Na4', 'Na4', 'Na5', 'Na5', 'Na5', 'Na5', 'Na5', 'Na5', 'Na5', 'Na5', 'Na5', 'Na5', 'Na5', 'Na5', 'Na5', 'Na5', 'Na5', 'Na5', 'Na6', 'Na6', 'Na6', 'Na6', 'Na6', 'Na6', 'Na6', 'Na6', 'i2', 'i2', 'i2', 'i2', 'i2', 'i2', 'i2', 'i2', 'i2', 'i2', 'i2', 'i2', 'i2', 'i2', 'i2', 'i2', 'i2', 'i2', 'i2', 'i2', 'i2', 'i2', 'i2', 'i2', 'i2', 'i2', 'i2', 'i2', 'i2', 'i2', 'i2', 'i2']\n"
     ]
    }
   ],
   "source": [
    "print(analysis.site_labels())"
   ]
  },
  {
   "cell_type": "code",
   "execution_count": 8,
   "metadata": {},
   "outputs": [],
   "source": [
    "analysis.append_timestep(structure)"
   ]
  },
  {
   "cell_type": "markdown",
   "metadata": {},
   "source": [
    "The occupations of each site are stored as a list of lists, as each site can have zero, one, or multiple atoms occupying it."
   ]
  },
  {
   "cell_type": "code",
   "execution_count": 9,
   "metadata": {},
   "outputs": [
    {
     "name": "stdout",
     "output_type": "stream",
     "text": [
      "[[84], [82], [85], [5], [75], [9], [78], [79], [83], [81], [], [88], [16], [73], [77], [80], [1], [76], [74], [12], [4], [14], [], [8], [15], [24], [21], [27], [17], [28], [19], [23], [2], [10], [7], [11], [3], [13], [6], [], [], [25], [20], [26], [86], [87], [18], [22], [57], [33], [29], [34], [47], [32], [30], [65], [], [51], [36], [40], [62], [38], [37], [39], [35], [67], [64], [70], [60], [72], [61], [], [68], [69], [71], [66], [58], [63], [59], [31], [48], [44], [46], [42], [56], [], [53], [50], [], [43], [45], [41], [55], [52], [54], [49], [], [], [], [], [], [], [], [], [], [], [], [], [], [], [], [], [], [], [], [], [], [], [], [], [], [], [], [], [], [], [], [], [], [], [], [], [], [], [], []]\n"
     ]
    }
   ],
   "source": [
    "print(analysis.st[0])"
   ]
  },
  {
   "cell_type": "code",
   "execution_count": 23,
   "metadata": {},
   "outputs": [
    {
     "data": {
      "text/plain": [
       "array([0.25 , 0.   , 0.125])"
      ]
     },
     "execution_count": 23,
     "metadata": {},
     "output_type": "execute_result"
    }
   ],
   "source": [
    "analysis.sites[0].frac_coords"
   ]
  },
  {
   "cell_type": "code",
   "execution_count": 24,
   "metadata": {},
   "outputs": [
    {
     "data": {
      "text/plain": [
       "array([0.28856436, 0.97768199, 0.13376162])"
      ]
     },
     "execution_count": 24,
     "metadata": {},
     "output_type": "execute_result"
    }
   ],
   "source": [
    "[ s for s in structure if s.species_string=='Na'][83].frac_coords"
   ]
  },
  {
   "cell_type": "markdown",
   "metadata": {},
   "source": [
    "Rough example for collecting only occupied sites, and counting their site types:"
   ]
  },
  {
   "cell_type": "code",
   "execution_count": 10,
   "metadata": {},
   "outputs": [
    {
     "data": {
      "text/plain": [
       "Counter({'Na1': 15,\n",
       "         'Na2': 29,\n",
       "         'Na3': 15,\n",
       "         'Na4': 15,\n",
       "         'Na5': 14,\n",
       "         'Na6': 0,\n",
       "         'i2': 0})"
      ]
     },
     "execution_count": 10,
     "metadata": {},
     "output_type": "execute_result"
    }
   ],
   "source": [
    "c = Counter()\n",
    "for site in analysis.sites:\n",
    "    c[site.label] += len([ 1 for ts in site.trajectory if len(ts)>0 ])\n",
    "c"
   ]
  },
  {
   "cell_type": "markdown",
   "metadata": {},
   "source": [
    "vs. all sites:"
   ]
  },
  {
   "cell_type": "code",
   "execution_count": 11,
   "metadata": {},
   "outputs": [
    {
     "data": {
      "text/plain": [
       "Counter({'Na1': 16,\n",
       "         'Na2': 32,\n",
       "         'Na3': 16,\n",
       "         'Na4': 16,\n",
       "         'Na5': 16,\n",
       "         'Na6': 8,\n",
       "         'i2': 32})"
      ]
     },
     "execution_count": 11,
     "metadata": {},
     "output_type": "execute_result"
    }
   ],
   "source": [
    "c_sites = Counter(analysis.site_labels())\n",
    "c_sites"
   ]
  },
  {
   "cell_type": "code",
   "execution_count": 12,
   "metadata": {},
   "outputs": [
    {
     "data": {
      "application/vnd.jupyter.widget-view+json": {
       "model_id": "7eaa1c961a8744da8be857df6fddd1ef",
       "version_major": 2,
       "version_minor": 0
      },
      "text/plain": [
       "HBox(children=(IntProgress(value=0, max=300), HTML(value='')))"
      ]
     },
     "metadata": {},
     "output_type": "display_data"
    },
    {
     "name": "stdout",
     "output_type": "stream",
     "text": [
      "\n"
     ]
    }
   ],
   "source": [
    "analysis.reset()\n",
    "\n",
    "xdatcar = Xdatcar('XDATCAR_Sn')\n",
    "\n",
    "analysis.trajectory_from_structures( xdatcar.structures, progress='notebook')"
   ]
  },
  {
   "cell_type": "code",
   "execution_count": 13,
   "metadata": {},
   "outputs": [
    {
     "data": {
      "text/plain": [
       "{'Na1': 0.93375,\n",
       " 'Na2': 0.895625,\n",
       " 'Na3': 0.915,\n",
       " 'Na4': 0.9427083333333334,\n",
       " 'Na5': 0.9120833333333334,\n",
       " 'Na6': 0.0,\n",
       " 'i2': 0.0026041666666666665}"
      ]
     },
     "execution_count": 13,
     "metadata": {},
     "output_type": "execute_result"
    }
   ],
   "source": [
    "n_timesteps = len(analysis.timesteps)\n",
    "c_sites = Counter(analysis.site_labels())\n",
    "c = Counter()\n",
    "p_occ = {}\n",
    "for site in analysis.sites:\n",
    "    c[site.label] += len([ 1 for ts in site.trajectory if len(ts)>0 ])\n",
    "for k, v in c.items():\n",
    "    p_occ[k] = v / c_sites[k] / n_timesteps\n",
    "p_occ"
   ]
  },
  {
   "cell_type": "code",
   "execution_count": 14,
   "metadata": {},
   "outputs": [
    {
     "name": "stdout",
     "output_type": "stream",
     "text": [
      "Na1 14.94\n",
      "Na2 28.66\n",
      "Na3 14.64\n",
      "Na4 15.083333333333334\n",
      "Na5 14.593333333333334\n",
      "Na6 0.0\n",
      "i2 0.08333333333333333\n",
      "88.0\n"
     ]
    }
   ],
   "source": [
    "# check total average occupation = 88 atoms\n",
    "for k,v in c.items():\n",
    "    print( k, p_occ[k]*c_sites[k])\n",
    "print( sum( [ p_occ[k] * c_sites[k] for k, v in c.items()]))"
   ]
  }
 ],
 "metadata": {
  "kernelspec": {
   "display_name": "Python 3",
   "language": "python",
   "name": "python3"
  },
  "language_info": {
   "codemirror_mode": {
    "name": "ipython",
    "version": 3
   },
   "file_extension": ".py",
   "mimetype": "text/x-python",
   "name": "python",
   "nbconvert_exporter": "python",
   "pygments_lexer": "ipython3",
   "version": "3.7.0"
  }
 },
 "nbformat": 4,
 "nbformat_minor": 2
}
