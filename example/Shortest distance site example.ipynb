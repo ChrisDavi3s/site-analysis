{
 "cells": [
  {
   "cell_type": "markdown",
   "metadata": {},
   "source": [
    "# VoronoiSite example"
   ]
  },
  {
   "cell_type": "code",
   "execution_count": 1,
   "metadata": {},
   "outputs": [],
   "source": [
    "from pymatgen.io.vasp import Poscar, Xdatcar\n",
    "from pymatgen.symmetry.groups import SpaceGroup\n",
    "from pymatgen.core import Lattice, Structure\n",
    "import numpy as np\n",
    "\n",
    "from site_analysis.atom import Atom\n",
    "from site_analysis.trajectory import Trajectory\n",
    "from site_analysis.voronoi_site import VoronoiSite\n",
    "from site_analysis.tools import get_vertex_indices\n",
    "\n",
    "from collections import Counter\n",
    "import tqdm"
   ]
  },
  {
   "cell_type": "markdown",
   "metadata": {},
   "source": [
    "Load a `POSCAR` file where every octahedral site is occupied by a Na atom."
   ]
  },
  {
   "cell_type": "code",
   "execution_count": 2,
   "metadata": {},
   "outputs": [],
   "source": [
    "all_na_structure = Poscar.from_file('na_sn_all_na_ext.POSCAR.vasp').structure\n",
    "vertex_species = 'S'\n",
    "centre_species = 'Na'"
   ]
  },
  {
   "cell_type": "markdown",
   "metadata": {},
   "source": [
    "Create a series of pymatgen Structures using the `Structure.from_spacegroup()` method, that each only contain the NaX sites, using the coordinates from Ramos _et al._ _Chem. Mater._ 2018."
   ]
  },
  {
   "cell_type": "code",
   "execution_count": 3,
   "metadata": {},
   "outputs": [],
   "source": [
    "sg = SpaceGroup('I41/acd:2')"
   ]
  },
  {
   "cell_type": "code",
   "execution_count": 4,
   "metadata": {},
   "outputs": [],
   "source": [
    "lattice = all_na_structure.lattice\n",
    "na1 = Structure.from_spacegroup(sg='I41/acd:2', lattice=lattice, species=['Na'], coords=[[0.25, 0.0, 0.125]])\n",
    "na2 = Structure.from_spacegroup(sg='I41/acd:2', lattice=lattice, species=['Na'], coords=[[0.00, 0.0, 0.125]])\n",
    "na3 = Structure.from_spacegroup(sg='I41/acd:2', lattice=lattice, species=['Na'], coords=[[0.0, 0.25, 0.0]])\n",
    "na4 = Structure.from_spacegroup(sg='I41/acd:2', lattice=lattice, species=['Na'], coords=[[0.0, 0.0, 0.0]])\n",
    "na5 = Structure.from_spacegroup(sg='I41/acd:2', lattice=lattice, species=['Na'], coords=[[0.75, 0.25, 0.0]])\n",
    "na6 = Structure.from_spacegroup(sg='I41/acd:2', lattice=lattice, species=['Na'], coords=[[0.5, 0.75, 0.625]])\n",
    "i2  = Structure.from_spacegroup(sg='I41/acd:2', lattice=lattice, species=['Na'], coords=[[0.666, 0.1376, 0.05]])\n",
    "na_structures = {'Na1': na1,\n",
    "                 'Na2': na2,\n",
    "                 'Na3': na3,\n",
    "                 'Na4': na4,\n",
    "                 'Na5': na5,\n",
    "                 'Na6': na6, \n",
    "                 'i2': i2}"
   ]
  },
  {
   "cell_type": "code",
   "execution_count": 5,
   "metadata": {},
   "outputs": [],
   "source": [
    "na1_sites = [VoronoiSite(s.frac_coords, label='Na1') for s in na1]\n",
    "na2_sites = [VoronoiSite(s.frac_coords, label='Na2') for s in na2]\n",
    "na3_sites = [VoronoiSite(s.frac_coords, label='Na3') for s in na3]\n",
    "na4_sites = [VoronoiSite(s.frac_coords, label='Na4') for s in na4]\n",
    "na5_sites = [VoronoiSite(s.frac_coords, label='Na5') for s in na5]\n",
    "na6_sites = [VoronoiSite(s.frac_coords, label='Na6') for s in na6]\n",
    "i2_sites  = [VoronoiSite(s.frac_coords, label='i2') for s in i2]\n",
    "sites = na1_sites + na2_sites + na3_sites + na4_sites + na5_sites + na6_sites + i2_sites"
   ]
  },
  {
   "cell_type": "code",
   "execution_count": 6,
   "metadata": {},
   "outputs": [],
   "source": [
    "structure = Poscar.from_file('POSCAR').structure\n",
    "# create Polyhedron objects\n",
    "# create Atom objects\n",
    "# Note: index is the atom index in the pymatgen structures we are going to process.\n",
    "# In this example, Na are the first species, so we count from 0.\n",
    "atoms = [Atom(index=i, species_string=centre_species) for i, site in enumerate(structure) if site.species_string == 'Na']\n",
    "trajectory = Trajectory(sites, atoms)"
   ]
  },
  {
   "cell_type": "code",
   "execution_count": 7,
   "metadata": {},
   "outputs": [
    {
     "name": "stdout",
     "output_type": "stream",
     "text": [
      "['Na1', 'Na1', 'Na1', 'Na1', 'Na1', 'Na1', 'Na1', 'Na1', 'Na1', 'Na1', 'Na1', 'Na1', 'Na1', 'Na1', 'Na1', 'Na1', 'Na2', 'Na2', 'Na2', 'Na2', 'Na2', 'Na2', 'Na2', 'Na2', 'Na2', 'Na2', 'Na2', 'Na2', 'Na2', 'Na2', 'Na2', 'Na2', 'Na2', 'Na2', 'Na2', 'Na2', 'Na2', 'Na2', 'Na2', 'Na2', 'Na2', 'Na2', 'Na2', 'Na2', 'Na2', 'Na2', 'Na2', 'Na2', 'Na3', 'Na3', 'Na3', 'Na3', 'Na3', 'Na3', 'Na3', 'Na3', 'Na3', 'Na3', 'Na3', 'Na3', 'Na3', 'Na3', 'Na3', 'Na3', 'Na4', 'Na4', 'Na4', 'Na4', 'Na4', 'Na4', 'Na4', 'Na4', 'Na4', 'Na4', 'Na4', 'Na4', 'Na4', 'Na4', 'Na4', 'Na4', 'Na5', 'Na5', 'Na5', 'Na5', 'Na5', 'Na5', 'Na5', 'Na5', 'Na5', 'Na5', 'Na5', 'Na5', 'Na5', 'Na5', 'Na5', 'Na5', 'Na6', 'Na6', 'Na6', 'Na6', 'Na6', 'Na6', 'Na6', 'Na6', 'i2', 'i2', 'i2', 'i2', 'i2', 'i2', 'i2', 'i2', 'i2', 'i2', 'i2', 'i2', 'i2', 'i2', 'i2', 'i2', 'i2', 'i2', 'i2', 'i2', 'i2', 'i2', 'i2', 'i2', 'i2', 'i2', 'i2', 'i2', 'i2', 'i2', 'i2', 'i2']\n"
     ]
    }
   ],
   "source": [
    "print(trajectory.site_labels())"
   ]
  },
  {
   "cell_type": "code",
   "execution_count": 8,
   "metadata": {},
   "outputs": [],
   "source": [
    "trajectory.append_timestep(structure)"
   ]
  },
  {
   "cell_type": "markdown",
   "metadata": {},
   "source": [
    "The occupations of each site are stored as a list of lists, as each site can have zero, one, or multiple atoms occupying it."
   ]
  },
  {
   "cell_type": "code",
   "execution_count": 9,
   "metadata": {},
   "outputs": [
    {
     "name": "stdout",
     "output_type": "stream",
     "text": [
      "[[83], [81], [84], [4], [74], [8], [77], [78], [82], [80], [], [87], [15], [72], [76], [79], [0], [75], [73], [11], [3], [13], [], [7], [14], [23], [20], [26], [16], [27], [18], [22], [1], [9], [6], [10], [2], [12], [5], [], [], [24], [19], [25], [85], [86], [17], [21], [56], [32], [28], [33], [46], [31], [29], [64], [], [50], [35], [39], [61], [37], [36], [38], [34], [66], [63], [69], [59], [71], [60], [], [67], [68], [70], [65], [57], [62], [58], [30], [47], [43], [45], [41], [55], [], [52], [49], [], [42], [44], [40], [54], [51], [53], [48], [], [], [], [], [], [], [], [], [], [], [], [], [], [], [], [], [], [], [], [], [], [], [], [], [], [], [], [], [], [], [], [], [], [], [], [], [], [], [], []]\n"
     ]
    }
   ],
   "source": [
    "print(trajectory.sites_trajectory[0])"
   ]
  },
  {
   "cell_type": "markdown",
   "metadata": {},
   "source": [
    "Rough example for collecting only occupied sites, and counting their site types:"
   ]
  },
  {
   "cell_type": "code",
   "execution_count": 10,
   "metadata": {},
   "outputs": [
    {
     "data": {
      "text/plain": [
       "Counter({'Na1': 15,\n",
       "         'Na2': 29,\n",
       "         'Na3': 15,\n",
       "         'Na4': 15,\n",
       "         'Na5': 14,\n",
       "         'Na6': 0,\n",
       "         'i2': 0})"
      ]
     },
     "execution_count": 10,
     "metadata": {},
     "output_type": "execute_result"
    }
   ],
   "source": [
    "c = Counter()\n",
    "for site in trajectory.sites:\n",
    "    c[site.label] += len([ 1 for ts in site.trajectory if len(ts)>0 ])\n",
    "c"
   ]
  },
  {
   "cell_type": "markdown",
   "metadata": {},
   "source": [
    "vs. all sites:"
   ]
  },
  {
   "cell_type": "code",
   "execution_count": 11,
   "metadata": {},
   "outputs": [
    {
     "data": {
      "text/plain": [
       "Counter({'Na1': 16,\n",
       "         'Na2': 32,\n",
       "         'Na3': 16,\n",
       "         'Na4': 16,\n",
       "         'Na5': 16,\n",
       "         'Na6': 8,\n",
       "         'i2': 32})"
      ]
     },
     "execution_count": 11,
     "metadata": {},
     "output_type": "execute_result"
    }
   ],
   "source": [
    "c_sites = Counter(trajectory.site_labels())\n",
    "c_sites"
   ]
  },
  {
   "cell_type": "code",
   "execution_count": 12,
   "metadata": {},
   "outputs": [
    {
     "data": {
      "application/vnd.jupyter.widget-view+json": {
       "model_id": "a3dad8ba3d64484bb5fc266fd6a95e9c",
       "version_major": 2,
       "version_minor": 0
      },
      "text/plain": [
       "  0%|          | 0/300 [00:00<?, ? steps/s]"
      ]
     },
     "metadata": {},
     "output_type": "display_data"
    }
   ],
   "source": [
    "trajectory.reset()\n",
    "\n",
    "xdatcar = Xdatcar('XDATCAR_Sn')\n",
    "\n",
    "trajectory.trajectory_from_structures( xdatcar.structures, progress='notebook')"
   ]
  },
  {
   "cell_type": "code",
   "execution_count": 13,
   "metadata": {},
   "outputs": [
    {
     "data": {
      "text/plain": [
       "{'Na1': 0.93375,\n",
       " 'Na2': 0.895625,\n",
       " 'Na3': 0.915,\n",
       " 'Na4': 0.9427083333333334,\n",
       " 'Na5': 0.9120833333333334,\n",
       " 'Na6': 0.0,\n",
       " 'i2': 0.0026041666666666665}"
      ]
     },
     "execution_count": 13,
     "metadata": {},
     "output_type": "execute_result"
    }
   ],
   "source": [
    "n_timesteps = len(trajectory.timesteps)\n",
    "c_sites = Counter(trajectory.site_labels())\n",
    "c = Counter()\n",
    "p_occ = {}\n",
    "for site in trajectory.sites:\n",
    "    c[site.label] += len([ 1 for ts in site.trajectory if len(ts)>0 ])\n",
    "for k, v in c.items():\n",
    "    p_occ[k] = v / c_sites[k] / n_timesteps\n",
    "p_occ"
   ]
  },
  {
   "cell_type": "code",
   "execution_count": 14,
   "metadata": {},
   "outputs": [
    {
     "name": "stdout",
     "output_type": "stream",
     "text": [
      "Na1 14.94\n",
      "Na2 28.66\n",
      "Na3 14.64\n",
      "Na4 15.083333333333334\n",
      "Na5 14.593333333333334\n",
      "Na6 0.0\n",
      "i2 0.08333333333333333\n",
      "88.0\n"
     ]
    }
   ],
   "source": [
    "# check total average occupation = 88 atoms\n",
    "for k,v in c.items():\n",
    "    print( k, p_occ[k]*c_sites[k])\n",
    "print( sum( [ p_occ[k] * c_sites[k] for k, v in c.items()]))"
   ]
  }
 ],
 "metadata": {
  "kernelspec": {
   "display_name": "Python 3",
   "language": "python",
   "name": "python3"
  },
  "language_info": {
   "codemirror_mode": {
    "name": "ipython",
    "version": 3
   },
   "file_extension": ".py",
   "mimetype": "text/x-python",
   "name": "python",
   "nbconvert_exporter": "python",
   "pygments_lexer": "ipython3",
   "version": "3.9.1"
  }
 },
 "nbformat": 4,
 "nbformat_minor": 2
}
