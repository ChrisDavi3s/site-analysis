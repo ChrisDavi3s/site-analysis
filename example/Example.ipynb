{
 "cells": [
  {
   "cell_type": "code",
   "execution_count": 1,
   "metadata": {},
   "outputs": [],
   "source": [
    "from pymatgen.io.vasp import Poscar\n",
    "import numpy as np\n",
    "import operator\n",
    "from siteid import Polyhedron, Atom, Analysis, get_vertex_indices, AtomTrajectory, SiteTrajectory"
   ]
  },
  {
   "cell_type": "code",
   "execution_count": 2,
   "metadata": {},
   "outputs": [],
   "source": [
    "structure = Poscar.from_file('POSCAR').structure\n",
    "all_na_structure = Poscar.from_file('na_sn_all_na_new.POSCAR.vasp').structure\n",
    "vertex_species = 'S'\n",
    "centre_species = 'Na'"
   ]
  },
  {
   "cell_type": "code",
   "execution_count": 3,
   "metadata": {},
   "outputs": [
    {
     "data": {
      "text/plain": [
       "Counter({6: 104})"
      ]
     },
     "execution_count": 3,
     "metadata": {},
     "output_type": "execute_result"
    }
   ],
   "source": [
    "# find atom indices (within species) for all polyhedra vertex atoms\n",
    "vertex_indices = get_vertex_indices(all_na_structure, centre_species=centre_species, \n",
    "                                    vertex_species=vertex_species, cutoff=4.3)\n",
    "# create Polyhedron objects\n",
    "polyhedra = [Polyhedron(vertex_species=vertex_species, vertex_indices=vi) for vi in vertex_indices]\n",
    "# create Atom objects\n",
    "atoms = [Atom(species=centre_species) for site in structure if site.species_string is 'Na']\n",
    "\n",
    "analysis = Analysis(polyhedra, atoms)\n",
    "analysis.coordination_summary()"
   ]
  },
  {
   "cell_type": "code",
   "execution_count": 4,
   "metadata": {},
   "outputs": [],
   "source": [
    "analysis.analyse_structure(structure)"
   ]
  },
  {
   "cell_type": "code",
   "execution_count": 5,
   "metadata": {},
   "outputs": [],
   "source": [
    "at = AtomTrajectory()\n",
    "st = SiteTrajectory()"
   ]
  },
  {
   "cell_type": "code",
   "execution_count": 9,
   "metadata": {},
   "outputs": [],
   "source": [
    "at.append_timestep(analysis.atom_sites, t=1)\n",
    "st.append_timestep(analysis.site_occupations, t=1)"
   ]
  },
  {
   "cell_type": "code",
   "execution_count": 10,
   "metadata": {},
   "outputs": [
    {
     "data": {
      "text/plain": [
       "array([[ 10,  93, 100,  15,  17,  69,  67,  24,  97,  84,  59,  57,  87,\n",
       "         55,  65,  16,  66,  13,  92,  14,  95,  51,  61,  86,  54,  25,\n",
       "         79,  83,  33,  35,   6,  41,   5,  43,   4,  36,  34,  42,   8,\n",
       "         40,  12,  94,  50,  68,  27,  82,   7,  63,  70,  49,   1,  98,\n",
       "         23,  91,  62,  56,   9,  31, 102,  73,  32,   2,  72,  99,   3,\n",
       "         90,  22,  71,  88,  26,  85,  21,  47,  37,  81,  18,  52,  64,\n",
       "         89,  45,  60,  53,  58,  44,  46, 101,  19,  80],\n",
       "       [ 10,  93, 100,  15,  17,  69,  67,  24,  97,  84,  59,  57,  87,\n",
       "         55,  65,  16,  66,  13,  92,  14,  95,  51,  61,  86,  54,  25,\n",
       "         79,  83,  33,  35,   6,  41,   5,  43,   4,  36,  34,  42,   8,\n",
       "         40,  12,  94,  50,  68,  27,  82,   7,  63,  70,  49,   1,  98,\n",
       "         23,  91,  62,  56,   9,  31, 102,  73,  32,   2,  72,  99,   3,\n",
       "         90,  22,  71,  88,  26,  85,  21,  47,  37,  81,  18,  52,  64,\n",
       "         89,  45,  60,  53,  58,  44,  46, 101,  19,  80]])"
      ]
     },
     "execution_count": 10,
     "metadata": {},
     "output_type": "execute_result"
    }
   ],
   "source": [
    "np.array(at.data)"
   ]
  },
  {
   "cell_type": "code",
   "execution_count": 11,
   "metadata": {},
   "outputs": [
    {
     "data": {
      "text/plain": [
       "[[[51],\n",
       "  [62],\n",
       "  [65],\n",
       "  [35],\n",
       "  [33],\n",
       "  [31],\n",
       "  [47],\n",
       "  [39],\n",
       "  [57],\n",
       "  [1],\n",
       "  [],\n",
       "  [41],\n",
       "  [18],\n",
       "  [20],\n",
       "  [4],\n",
       "  [16],\n",
       "  [5],\n",
       "  [76],\n",
       "  [87],\n",
       "  [],\n",
       "  [72],\n",
       "  [67],\n",
       "  [53],\n",
       "  [8],\n",
       "  [26],\n",
       "  [70],\n",
       "  [45],\n",
       "  [],\n",
       "  [],\n",
       "  [],\n",
       "  [58],\n",
       "  [61],\n",
       "  [29],\n",
       "  [37],\n",
       "  [30],\n",
       "  [36],\n",
       "  [74],\n",
       "  [],\n",
       "  [],\n",
       "  [40],\n",
       "  [32],\n",
       "  [38],\n",
       "  [34],\n",
       "  [84],\n",
       "  [80],\n",
       "  [85],\n",
       "  [73],\n",
       "  [],\n",
       "  [50],\n",
       "  [43],\n",
       "  [22],\n",
       "  [77],\n",
       "  [82],\n",
       "  [25],\n",
       "  [14],\n",
       "  [56],\n",
       "  [12],\n",
       "  [83],\n",
       "  [11],\n",
       "  [81],\n",
       "  [23],\n",
       "  [55],\n",
       "  [48],\n",
       "  [78],\n",
       "  [15],\n",
       "  [17],\n",
       "  [7],\n",
       "  [44],\n",
       "  [6],\n",
       "  [49],\n",
       "  [68],\n",
       "  [63],\n",
       "  [60],\n",
       "  [],\n",
       "  [],\n",
       "  [],\n",
       "  [],\n",
       "  [],\n",
       "  [27],\n",
       "  [88],\n",
       "  [75],\n",
       "  [46],\n",
       "  [28],\n",
       "  [10],\n",
       "  [71],\n",
       "  [24],\n",
       "  [13],\n",
       "  [69],\n",
       "  [79],\n",
       "  [66],\n",
       "  [54],\n",
       "  [19],\n",
       "  [2],\n",
       "  [42],\n",
       "  [21],\n",
       "  [],\n",
       "  [9],\n",
       "  [52],\n",
       "  [64],\n",
       "  [3],\n",
       "  [86],\n",
       "  [59],\n",
       "  [],\n",
       "  []],\n",
       " [[51],\n",
       "  [62],\n",
       "  [65],\n",
       "  [35],\n",
       "  [33],\n",
       "  [31],\n",
       "  [47],\n",
       "  [39],\n",
       "  [57],\n",
       "  [1],\n",
       "  [],\n",
       "  [41],\n",
       "  [18],\n",
       "  [20],\n",
       "  [4],\n",
       "  [16],\n",
       "  [5],\n",
       "  [76],\n",
       "  [87],\n",
       "  [],\n",
       "  [72],\n",
       "  [67],\n",
       "  [53],\n",
       "  [8],\n",
       "  [26],\n",
       "  [70],\n",
       "  [45],\n",
       "  [],\n",
       "  [],\n",
       "  [],\n",
       "  [58],\n",
       "  [61],\n",
       "  [29],\n",
       "  [37],\n",
       "  [30],\n",
       "  [36],\n",
       "  [74],\n",
       "  [],\n",
       "  [],\n",
       "  [40],\n",
       "  [32],\n",
       "  [38],\n",
       "  [34],\n",
       "  [84],\n",
       "  [80],\n",
       "  [85],\n",
       "  [73],\n",
       "  [],\n",
       "  [50],\n",
       "  [43],\n",
       "  [22],\n",
       "  [77],\n",
       "  [82],\n",
       "  [25],\n",
       "  [14],\n",
       "  [56],\n",
       "  [12],\n",
       "  [83],\n",
       "  [11],\n",
       "  [81],\n",
       "  [23],\n",
       "  [55],\n",
       "  [48],\n",
       "  [78],\n",
       "  [15],\n",
       "  [17],\n",
       "  [7],\n",
       "  [44],\n",
       "  [6],\n",
       "  [49],\n",
       "  [68],\n",
       "  [63],\n",
       "  [60],\n",
       "  [],\n",
       "  [],\n",
       "  [],\n",
       "  [],\n",
       "  [],\n",
       "  [27],\n",
       "  [88],\n",
       "  [75],\n",
       "  [46],\n",
       "  [28],\n",
       "  [10],\n",
       "  [71],\n",
       "  [24],\n",
       "  [13],\n",
       "  [69],\n",
       "  [79],\n",
       "  [66],\n",
       "  [54],\n",
       "  [19],\n",
       "  [2],\n",
       "  [42],\n",
       "  [21],\n",
       "  [],\n",
       "  [9],\n",
       "  [52],\n",
       "  [64],\n",
       "  [3],\n",
       "  [86],\n",
       "  [59],\n",
       "  [],\n",
       "  []]]"
      ]
     },
     "execution_count": 11,
     "metadata": {},
     "output_type": "execute_result"
    }
   ],
   "source": [
    "st.data"
   ]
  },
  {
   "cell_type": "code",
   "execution_count": null,
   "metadata": {},
   "outputs": [],
   "source": [
    "for p in analysis.polyhedra:\n",
    "    print( p.contains_atoms )"
   ]
  },
  {
   "cell_type": "code",
   "execution_count": null,
   "metadata": {},
   "outputs": [],
   "source": [
    "for i, a in enumerate(atoms, 1):\n",
    "    print(i, a.index, a.in_polyhedron)"
   ]
  },
  {
   "cell_type": "code",
   "execution_count": null,
   "metadata": {},
   "outputs": [],
   "source": [
    "import itertools"
   ]
  },
  {
   "cell_type": "code",
   "execution_count": null,
   "metadata": {},
   "outputs": [],
   "source": [
    "a = itertools.count()"
   ]
  },
  {
   "cell_type": "code",
   "execution_count": null,
   "metadata": {},
   "outputs": [],
   "source": [
    "next(a)"
   ]
  },
  {
   "cell_type": "code",
   "execution_count": null,
   "metadata": {},
   "outputs": [],
   "source": [
    "next(itertools.count())"
   ]
  },
  {
   "cell_type": "code",
   "execution_count": null,
   "metadata": {},
   "outputs": [],
   "source": [
    "atoms[2].index"
   ]
  },
  {
   "cell_type": "code",
   "execution_count": null,
   "metadata": {},
   "outputs": [],
   "source": [
    "n = sorted([s for s in all_na_structure.get_neighbors(all_na_structure[56], r=4.0, include_index=True) if s[0].species_string is 'S'], key=lambda x: x[2] )[:6]\n",
    "[n[2]-119+112 for n in n]"
   ]
  },
  {
   "cell_type": "code",
   "execution_count": null,
   "metadata": {},
   "outputs": [],
   "source": [
    "all_na_structure.get_neighbors(all_na_structure[56], r=3.5, include_index=True)"
   ]
  },
  {
   "cell_type": "code",
   "execution_count": null,
   "metadata": {},
   "outputs": [],
   "source": []
  }
 ],
 "metadata": {
  "kernelspec": {
   "display_name": "Python 3",
   "language": "python",
   "name": "python3"
  },
  "language_info": {
   "codemirror_mode": {
    "name": "ipython",
    "version": 3
   },
   "file_extension": ".py",
   "mimetype": "text/x-python",
   "name": "python",
   "nbconvert_exporter": "python",
   "pygments_lexer": "ipython3",
   "version": "3.7.0"
  }
 },
 "nbformat": 4,
 "nbformat_minor": 2
}
