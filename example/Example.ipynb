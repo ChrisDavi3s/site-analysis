{
 "cells": [
  {
   "cell_type": "markdown",
   "metadata": {},
   "source": [
    "# `siteid` example"
   ]
  },
  {
   "cell_type": "code",
   "execution_count": 1,
   "metadata": {},
   "outputs": [],
   "source": [
    "from pymatgen.io.vasp import Poscar, Xdatcar\n",
    "import numpy as np\n",
    "import operator\n",
    "from siteid import Polyhedron, Atom, Analysis, get_vertex_indices, AtomTrajectory, SiteTrajectory"
   ]
  },
  {
   "cell_type": "markdown",
   "metadata": {},
   "source": [
    "The first step is to identify the atoms that define the coordination polyhedra vertices.  \n",
    "To do this we load a `POSCAR` file where every octahedral site is occupied by a Na atom."
   ]
  },
  {
   "cell_type": "code",
   "execution_count": 2,
   "metadata": {},
   "outputs": [],
   "source": [
    "all_na_structure = Poscar.from_file('na_sn_all_na_new.POSCAR.vasp').structure\n",
    "vertex_species = 'S'\n",
    "centre_species = 'Na'"
   ]
  },
  {
   "cell_type": "markdown",
   "metadata": {},
   "source": [
    "We then use the `get_vertex_indices()` function to find the six closest S to each Na (within a cutoff of 4.3 Å).  \n",
    "This returns a nested list, where each sublist contains the S indices for a single polyedron.  \n",
    "Note: this index counts from 1, and ignores other species in the structure (so is not affected by species order)."
   ]
  },
  {
   "cell_type": "code",
   "execution_count": 3,
   "metadata": {},
   "outputs": [
    {
     "name": "stdout",
     "output_type": "stream",
     "text": [
      "[[27 29 59 61 83 85]\n",
      " [19 21 51 53 91 93]\n",
      " [ 9 15 41 47 65 71]\n",
      " [ 7 23 33 49 73 90]]\n"
     ]
    }
   ],
   "source": [
    "# find atom indices (within species) for all polyhedra vertex atoms\n",
    "vertex_indices = get_vertex_indices(all_na_structure, centre_species=centre_species, \n",
    "                                    vertex_species=vertex_species, cutoff=4.3)\n",
    "print(vertex_indices[:4])"
   ]
  },
  {
   "cell_type": "markdown",
   "metadata": {},
   "source": [
    "We can now use these vertex ids to define our `Polyhedron` objects.  \n",
    "We also define our `Atom` objects, using an example structure with the correct Na stoichiometry.\n",
    "These lists of polyhedra and atoms are then used to create an `Analysis` object."
   ]
  },
  {
   "cell_type": "code",
   "execution_count": 4,
   "metadata": {},
   "outputs": [],
   "source": [
    "structure = Poscar.from_file('POSCAR').structure\n",
    "# create Polyhedron objects\n",
    "polyhedra = [Polyhedron(vertex_species=vertex_species, vertex_indices=vi) for vi in vertex_indices]\n",
    "# create Atom objects\n",
    "atoms = [Atom(species=centre_species) for site in structure if site.species_string is 'Na']\n",
    "analysis = Analysis(polyhedra, atoms)"
   ]
  },
  {
   "cell_type": "markdown",
   "metadata": {},
   "source": [
    "The `Analysis` object provides the main interface for working with the `Polyhedron` and `Atom` objects.  \n",
    "e.g. to get a summary of the polyhedron coordination numbers:"
   ]
  },
  {
   "cell_type": "code",
   "execution_count": 5,
   "metadata": {},
   "outputs": [
    {
     "data": {
      "text/plain": [
       "Counter({6: 104})"
      ]
     },
     "execution_count": 5,
     "metadata": {},
     "output_type": "execute_result"
    }
   ],
   "source": [
    "analysis.coordination_summary()"
   ]
  },
  {
   "cell_type": "markdown",
   "metadata": {},
   "source": [
    "To analyse the site occupation for a particular `pymatgen` `Structure`:"
   ]
  },
  {
   "cell_type": "code",
   "execution_count": 6,
   "metadata": {},
   "outputs": [],
   "source": [
    "analysis.analyse_structure(structure)"
   ]
  },
  {
   "cell_type": "markdown",
   "metadata": {},
   "source": [
    "The list of sites occupied by each atom can now be accessed using `analysis.atom_sites`"
   ]
  },
  {
   "cell_type": "code",
   "execution_count": 7,
   "metadata": {},
   "outputs": [
    {
     "data": {
      "text/plain": [
       "array([ 10,  93, 100,  15,  17,  69,  67,  24,  97,  84,  59,  57,  87,\n",
       "        55,  65,  16,  66,  13,  92,  14,  95,  51,  61,  86,  54,  25,\n",
       "        79,  83,  33,  35,   6,  41,   5,  43,   4,  36,  34,  42,   8,\n",
       "        40,  12,  94,  50,  68,  27,  82,   7,  63,  70,  49,   1,  98,\n",
       "        23,  91,  62,  56,   9,  31, 102,  73,  32,   2,  72,  99,   3,\n",
       "        90,  22,  71,  88,  26,  85,  21,  47,  37,  81,  18,  52,  64,\n",
       "        89,  45,  60,  53,  58,  44,  46, 101,  19,  80])"
      ]
     },
     "execution_count": 7,
     "metadata": {},
     "output_type": "execute_result"
    }
   ],
   "source": [
    "np.array(analysis.atom_sites)"
   ]
  },
  {
   "cell_type": "markdown",
   "metadata": {},
   "source": [
    "The occupations of each site are stored as a list of lists, as each site can have zero, one, or multiple atoms occupying it."
   ]
  },
  {
   "cell_type": "code",
   "execution_count": 8,
   "metadata": {},
   "outputs": [
    {
     "data": {
      "text/plain": [
       "[[51], [62], [65], [35]]"
      ]
     },
     "execution_count": 8,
     "metadata": {},
     "output_type": "execute_result"
    }
   ],
   "source": [
    "analysis.site_occupations[:4]"
   ]
  },
  {
   "cell_type": "markdown",
   "metadata": {},
   "source": [
    "There are two ways to think about a site-projected trajectory:  \n",
    "1. From an atom-centric perspective. Each atom visits a series of sites, and occupies one site each timestep.\n",
    "2. From a site-centric perspective. Each site is visited by a series of atoms, and has zero, one, or more atoms occupying it at each timestep.\n",
    "\n",
    "These two trajectory types are handled with the `AtomTrajectory` and `SiteTrajectory` classes:"
   ]
  },
  {
   "cell_type": "code",
   "execution_count": 9,
   "metadata": {},
   "outputs": [],
   "source": [
    "at = AtomTrajectory()\n",
    "st = SiteTrajectory()"
   ]
  },
  {
   "cell_type": "markdown",
   "metadata": {},
   "source": [
    "The `AtomTrajectory` and `SiteTrajectory` classes provide convenient wrappers for storing sequences of site-occupation data. Both classes have `append_timestep()` methods, e.g. to add analysis data at $t=1$:"
   ]
  },
  {
   "cell_type": "code",
   "execution_count": 10,
   "metadata": {},
   "outputs": [],
   "source": [
    "at.append_timestep(analysis.atom_sites, t=1)\n",
    "st.append_timestep(analysis.site_occupations, t=1)"
   ]
  },
  {
   "cell_type": "code",
   "execution_count": 11,
   "metadata": {},
   "outputs": [
    {
     "name": "stdout",
     "output_type": "stream",
     "text": [
      "[[ 10  93 100  15  17  69  67  24  97  84  59  57  87  55  65  16  66  13\n",
      "   92  14  95  51  61  86  54  25  79  83  33  35   6  41   5  43   4  36\n",
      "   34  42   8  40  12  94  50  68  27  82   7  63  70  49   1  98  23  91\n",
      "   62  56   9  31 102  73  32   2  72  99   3  90  22  71  88  26  85  21\n",
      "   47  37  81  18  52  64  89  45  60  53  58  44  46 101  19  80]]\n",
      "[1]\n"
     ]
    }
   ],
   "source": [
    "print(np.array(at.data))\n",
    "print(at.timesteps)"
   ]
  },
  {
   "cell_type": "code",
   "execution_count": 12,
   "metadata": {},
   "outputs": [
    {
     "name": "stdout",
     "output_type": "stream",
     "text": [
      "[[51], [62], [65], [35]]\n",
      "[1]\n"
     ]
    }
   ],
   "source": [
    "print(st.data[0][:4])\n",
    "print(st.timesteps)"
   ]
  },
  {
   "cell_type": "markdown",
   "metadata": {},
   "source": [
    "Example of processing a simulation trajectory using the `XDATCAR` file:"
   ]
  },
  {
   "cell_type": "code",
   "execution_count": 13,
   "metadata": {},
   "outputs": [],
   "source": [
    "xdatcar = Xdatcar('XDATCAR')\n",
    "\n",
    "at = AtomTrajectory()\n",
    "st = SiteTrajectory()\n",
    "\n"
   ]
  },
  {
   "cell_type": "code",
   "execution_count": 14,
   "metadata": {},
   "outputs": [
    {
     "name": "stdout",
     "output_type": "stream",
     "text": [
      "7 s ± 222 ms per loop (mean ± std. dev. of 7 runs, 1 loop each)\n"
     ]
    }
   ],
   "source": [
    "%%timeit\n",
    "for timestep, s in enumerate(xdatcar.structures):\n",
    "    analysis.analyse_structure(s)\n",
    "    at.append_timestep(analysis.atom_sites, t=timestep)\n",
    "    st.append_timestep(analysis.site_occupations, t=timestep)"
   ]
  },
  {
   "cell_type": "markdown",
   "metadata": {},
   "source": [
    "Checking which sites has Na(4) visited:"
   ]
  },
  {
   "cell_type": "code",
   "execution_count": 15,
   "metadata": {},
   "outputs": [
    {
     "ename": "AttributeError",
     "evalue": "'AtomTrajectory' object has no attribute 'atom_sites'",
     "output_type": "error",
     "traceback": [
      "\u001b[0;31m---------------------------------------------------------------------------\u001b[0m",
      "\u001b[0;31mAttributeError\u001b[0m                            Traceback (most recent call last)",
      "\u001b[0;32m<ipython-input-15-2426e9511564>\u001b[0m in \u001b[0;36m<module>\u001b[0;34m\u001b[0m\n\u001b[0;32m----> 1\u001b[0;31m \u001b[0mat\u001b[0m\u001b[0;34m.\u001b[0m\u001b[0matom_sites\u001b[0m\u001b[0;34m(\u001b[0m\u001b[0;36m4\u001b[0m\u001b[0;34m)\u001b[0m \u001b[0;31m# convert to a numpy array to then use numpy array slicing to extract a single atom trajectory.\u001b[0m\u001b[0;34m\u001b[0m\u001b[0m\n\u001b[0m",
      "\u001b[0;31mAttributeError\u001b[0m: 'AtomTrajectory' object has no attribute 'atom_sites'"
     ]
    }
   ],
   "source": [
    "at.atom_sites(4) # convert to a numpy array to then use numpy array slicing to extract a single atom trajectory."
   ]
  },
  {
   "cell_type": "markdown",
   "metadata": {},
   "source": [
    "Na(4) starts in site 15, and moves to site 73 at timestep 5.  \n",
    "The same information can be seen by querying the site occupation data for sites 15 and 73:"
   ]
  },
  {
   "cell_type": "code",
   "execution_count": null,
   "metadata": {},
   "outputs": [],
   "source": [
    "print(st.site_occupation(15))\n",
    "print(st.site_occupation(73))"
   ]
  }
 ],
 "metadata": {
  "kernelspec": {
   "display_name": "Python 3",
   "language": "python",
   "name": "python3"
  },
  "language_info": {
   "codemirror_mode": {
    "name": "ipython",
    "version": 3
   },
   "file_extension": ".py",
   "mimetype": "text/x-python",
   "name": "python",
   "nbconvert_exporter": "python",
   "pygments_lexer": "ipython3",
   "version": "3.7.0"
  }
 },
 "nbformat": 4,
 "nbformat_minor": 2
}
